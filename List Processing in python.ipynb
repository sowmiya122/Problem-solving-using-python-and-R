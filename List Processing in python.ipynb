{
 "cells": [
  {
   "cell_type": "markdown",
   "id": "1e6ee4fe",
   "metadata": {},
   "source": [
    "                                 Lab5.List Processing in Python"
   ]
  },
  {
   "cell_type": "markdown",
   "id": "862450e5",
   "metadata": {},
   "source": [
    "                                       B.SOWMIYA-225229138"
   ]
  },
  {
   "cell_type": "code",
   "execution_count": 86,
   "id": "731796b7",
   "metadata": {},
   "outputs": [],
   "source": [
    "#QUES-1(a)"
   ]
  },
  {
   "cell_type": "code",
   "execution_count": 85,
   "id": "4247509c",
   "metadata": {},
   "outputs": [],
   "source": [
    "def find_averge(stud):\n",
    "    print(\"Roll No. : \",stud[0])\n",
    "    print(\"Name : \",stud[1])\n",
    "    print(\"Mark1 : \",stud[2])\n",
    "    print(\"Mark2 : \",stud[3])\n",
    "    print(\"Mark3 : \",stud[4])\n",
    "    for i in stud:\n",
    "        m=(stud[2]+stud[3]+stud[4])/3\n",
    "    print(\"Average Mark :\",m)"
   ]
  },
  {
   "cell_type": "code",
   "execution_count": 11,
   "id": "4d987379",
   "metadata": {},
   "outputs": [
    {
     "name": "stdout",
     "output_type": "stream",
     "text": [
      "Roll No. :  1\n",
      "Name :  Rex\n",
      "Mark1 :  60\n",
      "Mark2 :  85\n",
      "Mark3 :  70\n",
      "Average Mark : 71.66666666666667\n"
     ]
    }
   ],
   "source": [
    "stud=(1,\"Rex\",60,85,70)\n",
    "stud1=tuple(stud)\n",
    "find_averge(stud1)"
   ]
  },
  {
   "cell_type": "code",
   "execution_count": 87,
   "id": "30eda570",
   "metadata": {},
   "outputs": [],
   "source": [
    "#QUES-1(b)"
   ]
  },
  {
   "cell_type": "code",
   "execution_count": 12,
   "id": "da3da4ad",
   "metadata": {},
   "outputs": [],
   "source": [
    "def find_averge(stud):\n",
    "    print(\"Roll No. : \",stud[0])\n",
    "    print(\"Name : \",stud[1])\n",
    "    print(\"Mark1 : \",stud[2][0])\n",
    "    print(\"Mark2 : \",stud[2][1])\n",
    "    print(\"Mark3 : \",stud[2][2])\n",
    "    for i in stud:\n",
    "        m=(stud[2][0]+stud[2][1]+stud[2][2])/3\n",
    "    print(\"Average Mark :\",m)"
   ]
  },
  {
   "cell_type": "code",
   "execution_count": 13,
   "id": "6190505b",
   "metadata": {},
   "outputs": [
    {
     "name": "stdout",
     "output_type": "stream",
     "text": [
      "Roll No. :  2\n",
      "Name :  Rex\n",
      "Mark1 :  80\n",
      "Mark2 :  75\n",
      "Mark3 :  90\n",
      "Average Mark : 81.66666666666667\n"
     ]
    }
   ],
   "source": [
    "stud=(2,\"Rex\",(80,75,90))\n",
    "stud2=tuple(stud)\n",
    "find_averge(stud2)"
   ]
  },
  {
   "cell_type": "code",
   "execution_count": 88,
   "id": "f06f9489",
   "metadata": {},
   "outputs": [],
   "source": [
    "#QUES-2"
   ]
  },
  {
   "cell_type": "code",
   "execution_count": 14,
   "id": "f8839936",
   "metadata": {},
   "outputs": [
    {
     "name": "stdout",
     "output_type": "stream",
     "text": [
      "Day 1 : 55\n",
      "Day 2 : 52\n",
      "Day 3 : 53\n",
      "Day 4 : 50\n",
      "Day 5 : 51\n",
      "Day 6 : 54\n",
      "Day 7 : 55\n",
      "First Day Weight :  55.0\n",
      "First Day Weight :  55.0\n",
      "Highest Weight :  55.0\n",
      "Lowest Weight :  50.0\n",
      "Averge Weight :  52.857142857142854\n",
      "Your weight management is not good. Please take Care of your diet\n"
     ]
    }
   ],
   "source": [
    "a=[]\n",
    "d1=float(input(\"Day 1 : \"))\n",
    "d2=float(input(\"Day 2 : \"))\n",
    "d3=float(input(\"Day 3 : \"))\n",
    "d4=float(input(\"Day 4 : \"))\n",
    "d5=float(input(\"Day 5 : \"))\n",
    "d6=float(input(\"Day 6 : \"))\n",
    "d7=float(input(\"Day 7 : \"))\n",
    "a.append(d1)\n",
    "a.append(d2)\n",
    "a.append(d3)\n",
    "a.append(d4)\n",
    "a.append(d5)\n",
    "a.append(d6)\n",
    "a.append(d7)\n",
    "print(\"First Day Weight : \",a[0])\n",
    "print(\"First Day Weight : \",a[6])\n",
    "print(\"Highest Weight : \",max(a))\n",
    "print(\"Lowest Weight : \",min(a))\n",
    "print(\"Averge Weight : \",sum(a)/len(a))\n",
    "if sum(a)<min(a):\n",
    "    print(\"Your weight management is excellent\")\n",
    "else:\n",
    "    print(\"Your weight management is not good. Please take Care of your diet\")"
   ]
  },
  {
   "cell_type": "code",
   "execution_count": 89,
   "id": "31aecce4",
   "metadata": {},
   "outputs": [],
   "source": [
    "#QUES-3"
   ]
  },
  {
   "cell_type": "code",
   "execution_count": 15,
   "id": "124df3af",
   "metadata": {},
   "outputs": [
    {
     "name": "stdout",
     "output_type": "stream",
     "text": [
      "How many numbers you want to enter?: 6\n",
      "Enter a number: 12\n",
      "Enter a number: 32\n",
      "Enter a number: 10\n",
      "Enter a number: 9\n",
      "Enter a number: 52\n",
      "Enter a number: 45\n",
      "How many largest numbers you want to find?: 3\n",
      "3 Largest numbers  are:  [12, 32, 10, 9, 52, 45]\n",
      "[32, 45, 52]\n"
     ]
    }
   ],
   "source": [
    "def lastN(list, n):\n",
    "    list.sort()    \n",
    "    return list[-n: ]\n",
    "\n",
    "li=[]\n",
    "n=int(input(\"How many numbers you want to enter?: \"))\n",
    "for i in range(0,n):\n",
    "    e=int(input(\"Enter a number: \"))\n",
    "    li.append(e)\n",
    "n=int(input(\"How many largest numbers you want to find?: \"))\n",
    "print(n, \"Largest numbers  are: \",li)\n",
    "print(lastN(li, n))"
   ]
  },
  {
   "cell_type": "code",
   "execution_count": 90,
   "id": "3697b340",
   "metadata": {},
   "outputs": [],
   "source": [
    "#QUES-4(a)"
   ]
  },
  {
   "cell_type": "code",
   "execution_count": 91,
   "id": "13e9c3cb",
   "metadata": {},
   "outputs": [
    {
     "name": "stdout",
     "output_type": "stream",
     "text": [
      "['xanadu', 'xyz', 'aardvark', 'apple', 'mix']\n"
     ]
    }
   ],
   "source": [
    "a1=['mix', 'xyz','apple', 'xanadu', 'aardvark']\n",
    "xlist=[]\n",
    "def sort(s):\n",
    "    for elem in s[:]:\n",
    "        if elem.startswith('x'):\n",
    "            xlist.append(elem)\n",
    "            s.remove(elem)\n",
    "    print(sorted(xlist)+sorted(s))\n",
    "    del xlist[:]\n",
    "sort(a1)"
   ]
  },
  {
   "cell_type": "code",
   "execution_count": 92,
   "id": "de6b50d0",
   "metadata": {},
   "outputs": [],
   "source": [
    "#QUES-4(b)"
   ]
  },
  {
   "cell_type": "code",
   "execution_count": 93,
   "id": "41a03a36",
   "metadata": {},
   "outputs": [
    {
     "name": "stdout",
     "output_type": "stream",
     "text": [
      "['xaa', 'xcc', 'aaa', 'bbb', 'ccc']\n"
     ]
    }
   ],
   "source": [
    "a2=['ccc', 'bbb','aaa', 'xcc', 'xaa']\n",
    "xlist=[]\n",
    "def sort(s):\n",
    "    for elem in s[:]:\n",
    "        if elem.startswith('x'):\n",
    "            xlist.append(elem)\n",
    "            s.remove(elem)\n",
    "    print(sorted(xlist)+sorted(s))\n",
    "    del xlist[:]\n",
    "\n",
    "sort(a2)\n"
   ]
  },
  {
   "cell_type": "code",
   "execution_count": 94,
   "id": "310802c1",
   "metadata": {},
   "outputs": [],
   "source": [
    "#QUES-4(c)"
   ]
  },
  {
   "cell_type": "code",
   "execution_count": 18,
   "id": "0aec58bc",
   "metadata": {},
   "outputs": [
    {
     "name": "stdout",
     "output_type": "stream",
     "text": [
      "['xaa', 'xzz', 'axx', 'bbb', 'ccc']\n"
     ]
    }
   ],
   "source": [
    "a3=['bbb', 'ccc', 'axx', 'xzz', 'xaa']\n",
    "xlist=[]\n",
    "def sort(s):\n",
    "    for elem in s[:]:\n",
    "        if elem.startswith('x'):\n",
    "            xlist.append(elem)\n",
    "            s.remove(elem)\n",
    "    print(sorted(xlist)+sorted(s))\n",
    "    del xlist[:]\n",
    "\n",
    "sort(a3)\n"
   ]
  },
  {
   "cell_type": "code",
   "execution_count": 95,
   "id": "6d8c7aea",
   "metadata": {},
   "outputs": [],
   "source": [
    "#QUES-5(a)"
   ]
  },
  {
   "cell_type": "code",
   "execution_count": 9,
   "id": "6100ab72",
   "metadata": {},
   "outputs": [
    {
     "name": "stdout",
     "output_type": "stream",
     "text": [
      "[(2, 2), (1, 3), (3, 4, 5), (1, 7)]\n"
     ]
    }
   ],
   "source": [
    "def last(n): return n[-1]\n",
    "\n",
    "def sort_list_last(tuples):\n",
    "    return sorted(tuples, key=last)\n",
    "print(sort_list_last([(1, 7), (1, 3), (3, 4,5), (2, 2)]))"
   ]
  },
  {
   "cell_type": "code",
   "execution_count": 97,
   "id": "fa2a59ef",
   "metadata": {},
   "outputs": [],
   "source": [
    "#QUES-5(b)"
   ]
  },
  {
   "cell_type": "code",
   "execution_count": 98,
   "id": "a62a0f8c",
   "metadata": {},
   "outputs": [
    {
     "name": "stdout",
     "output_type": "stream",
     "text": [
      "[(2, 1), (3, 2), (1, 3)]\n"
     ]
    }
   ],
   "source": [
    "def last(n): return n[-1]\n",
    "\n",
    "def sort_list_last(tuples):\n",
    "    return sorted(tuples, key=last)\n",
    "print(sort_list_last([(1,3),(3,2),(2,1)]))"
   ]
  },
  {
   "cell_type": "code",
   "execution_count": 99,
   "id": "526fba75",
   "metadata": {},
   "outputs": [],
   "source": [
    "#QUES-5(c)"
   ]
  },
  {
   "cell_type": "code",
   "execution_count": 127,
   "id": "3eb911f4",
   "metadata": {},
   "outputs": [
    {
     "name": "stdout",
     "output_type": "stream",
     "text": [
      "[(3, 1), (1, 2), (2, 3)]\n"
     ]
    }
   ],
   "source": [
    "def last(n): return n[-1]\n",
    "\n",
    "def sort_list_last(tuples):\n",
    "    return sorted(tuples, key=last)\n",
    "print(sort_list_last([(2,3),(1,2),(3,1)]))"
   ]
  },
  {
   "cell_type": "code",
   "execution_count": 132,
   "id": "b1e554e3",
   "metadata": {},
   "outputs": [],
   "source": [
    "#QUES-6(a)"
   ]
  },
  {
   "cell_type": "code",
   "execution_count": 133,
   "id": "75746b3d",
   "metadata": {},
   "outputs": [
    {
     "name": "stdout",
     "output_type": "stream",
     "text": [
      "The first element of the tuple:\n",
      "20\n"
     ]
    }
   ],
   "source": [
    "def first(s):\n",
    "    print(s[0])\n",
    "#main\n",
    "t=(20,35,40,75,90,55)\n",
    "print(\"The first element of the tuple:\")\n",
    "first(t)"
   ]
  },
  {
   "cell_type": "code",
   "execution_count": 134,
   "id": "d9d2fcf9",
   "metadata": {},
   "outputs": [],
   "source": [
    "#QUES-6(b)"
   ]
  },
  {
   "cell_type": "code",
   "execution_count": 142,
   "id": "86587814",
   "metadata": {},
   "outputs": [
    {
     "name": "stdout",
     "output_type": "stream",
     "text": [
      "sorted list:\n",
      "[(0, 2, 3), (5, 1, 6), (7, 6, 5), (30, 45, 65), (50, 45, 55)]\n"
     ]
    }
   ],
   "source": [
    "def sort_first(s):\n",
    "    return sorted(s)\n",
    "#main\n",
    "t=[(5,1,6),(0,2,3),(30,45,65),(7,6,5),(50,45,55)]\n",
    "print(\"sorted list:\")\n",
    "print(sort_first(t))"
   ]
  },
  {
   "cell_type": "code",
   "execution_count": null,
   "id": "ac2fc898",
   "metadata": {},
   "outputs": [],
   "source": [
    "#QUES-6(c)"
   ]
  },
  {
   "cell_type": "code",
   "execution_count": 139,
   "id": "7773553c",
   "metadata": {},
   "outputs": [
    {
     "name": "stdout",
     "output_type": "stream",
     "text": [
      "sorted list: [(1, 2, 3), (2, 1, 4), (10, 7, 15), (20, 4, 50), (30, 6, 40)]\n"
     ]
    }
   ],
   "source": [
    "def sort_first(s): \n",
    "\n",
    "    print(\"sorted list:\",sorted(s)) \n",
    "\n",
    "t=[(2,1,4),(1,2,3),(20,4,50),(10,7,15),(30,6,40)] \n",
    "\n",
    "sort_first(t) \n"
   ]
  },
  {
   "cell_type": "code",
   "execution_count": 143,
   "id": "5f038bfd",
   "metadata": {},
   "outputs": [],
   "source": [
    "#QUES-6(d)"
   ]
  },
  {
   "cell_type": "code",
   "execution_count": 152,
   "id": "508088cb",
   "metadata": {},
   "outputs": [
    {
     "name": "stdout",
     "output_type": "stream",
     "text": [
      "Middle element\n",
      "55\n"
     ]
    }
   ],
   "source": [
    "def middle(s):\n",
    "    a=len(s)/2\n",
    "    print(s[int(a)])\n",
    "#main:\n",
    "t=(35,40,55,60,75)\n",
    "print(\"Middle element\")\n",
    "middle(t)"
   ]
  },
  {
   "cell_type": "code",
   "execution_count": null,
   "id": "a520e8a1",
   "metadata": {},
   "outputs": [],
   "source": [
    "#QUES-6(e)"
   ]
  },
  {
   "cell_type": "code",
   "execution_count": 3,
   "id": "c416852e",
   "metadata": {},
   "outputs": [
    {
     "name": "stdout",
     "output_type": "stream",
     "text": [
      "Sorted list of Tuples:\n",
      "[(27, 11, 32), (24, 12, 32), (34, 21, 56), (42, 34, 42)]\n"
     ]
    }
   ],
   "source": [
    "def middle(n):  \n",
    "    return n[1]    \n",
    "     \n",
    "# function to sort the tuple     \n",
    "def sort(list_of_tuples):  \n",
    "    return sorted(list_of_tuples, key = middle)  \n",
    "     \n",
    "# driver code    \n",
    "list_ = [(34, 21, 56), (24, 12, 32), (42, 34, 42), (27, 11, 32)]  \n",
    "  \n",
    "print(\"Sorted list of Tuples:\"),  \n",
    "print(sort(list_))  "
   ]
  },
  {
   "cell_type": "code",
   "execution_count": 154,
   "id": "dde7bbe5",
   "metadata": {},
   "outputs": [],
   "source": [
    "#QUES-6(f)"
   ]
  },
  {
   "cell_type": "code",
   "execution_count": 157,
   "id": "55a2247c",
   "metadata": {},
   "outputs": [
    {
     "name": "stdout",
     "output_type": "stream",
     "text": [
      "[(2, 1, 4), (1, 2, 3), (20, 4, 50), (30, 6, 40), (10, 7, 15)]\n"
     ]
    }
   ],
   "source": [
    "def Sort_Tuple(tup):\n",
    "    return(sorted(tup, key = lambda x: x[1])) \n",
    "# Driver Code\n",
    "tup = [(1,2,3),(2,1,4),(10,7,15),(20,4,50),(30,6,40)]\n",
    " \n",
    "# printing the sorted list of tuples\n",
    "print(Sort_Tuple(tup))"
   ]
  },
  {
   "cell_type": "code",
   "execution_count": 107,
   "id": "50165769",
   "metadata": {},
   "outputs": [],
   "source": [
    "#QUES-7(a)"
   ]
  },
  {
   "cell_type": "code",
   "execution_count": 7,
   "id": "cf976d77",
   "metadata": {},
   "outputs": [
    {
     "name": "stdout",
     "output_type": "stream",
     "text": [
      "[1, 2, 3]\n",
      "[2, 3]\n",
      "[]\n",
      "[2, 5, 6, 7]\n",
      "[6, 7, 8, 9]\n"
     ]
    }
   ],
   "source": [
    " def remove_adjacent(adj1):\n",
    "    final_list = []\n",
    "    for num in adj1:\n",
    "        if num not in final_list:\n",
    "            final_list.append(num)\n",
    "    return final_list\n",
    "adj1 = [1,2,2,3]\n",
    "print(remove_adjacent(adj1))\n",
    "adj2 = [2,2,3,3,3]\n",
    "print(remove_adjacent(adj2))\n",
    "adj3 = []\n",
    "print(remove_adjacent(adj3))\n",
    "adj4 = [2,5,5,6,6,7]\n",
    "print(remove_adjacent(adj4))\n",
    "adj5 = [6,7,7,8,9,9]\n",
    "print(remove_adjacent(adj5))"
   ]
  },
  {
   "cell_type": "code",
   "execution_count": 109,
   "id": "47eaeea2",
   "metadata": {},
   "outputs": [],
   "source": [
    "#QUES-7(b)"
   ]
  },
  {
   "cell_type": "code",
   "execution_count": 81,
   "id": "1399b840",
   "metadata": {},
   "outputs": [
    {
     "name": "stdout",
     "output_type": "stream",
     "text": [
      "[2, 3]\n"
     ]
    }
   ],
   "source": [
    " def remove_adjacent(adj2):\n",
    "    final_list = []\n",
    "    for num in adj2:\n",
    "        if num not in final_list:\n",
    "            final_list.append(num)\n",
    "    return final_list\n",
    "adj2 = [2,2,3,3,3]\n",
    "print(remove_adjacent(adj2))"
   ]
  },
  {
   "cell_type": "code",
   "execution_count": 110,
   "id": "8a848113",
   "metadata": {},
   "outputs": [],
   "source": [
    "#QUES-7(c)"
   ]
  },
  {
   "cell_type": "code",
   "execution_count": 111,
   "id": "29b9ebb8",
   "metadata": {},
   "outputs": [
    {
     "name": "stdout",
     "output_type": "stream",
     "text": [
      "[]\n"
     ]
    }
   ],
   "source": [
    " def remove_adjacent(adj3):\n",
    "    final_list = []\n",
    "    for num in adj3:\n",
    "        if num not in final_list:\n",
    "            final_list.append(num)\n",
    "    return final_list\n",
    "adj3 = []\n",
    "print(remove_adjacent(adj3))"
   ]
  },
  {
   "cell_type": "code",
   "execution_count": 114,
   "id": "f1036d52",
   "metadata": {},
   "outputs": [],
   "source": [
    "#QUES-7(d)"
   ]
  },
  {
   "cell_type": "code",
   "execution_count": 115,
   "id": "30db073d",
   "metadata": {},
   "outputs": [
    {
     "name": "stdout",
     "output_type": "stream",
     "text": [
      "[2, 5, 6, 7]\n"
     ]
    }
   ],
   "source": [
    " def remove_adjacent(adj4):\n",
    "    final_list = []\n",
    "    for num in adj4:\n",
    "        if num not in final_list:\n",
    "            final_list.append(num)\n",
    "    return final_list\n",
    "adj4 = [2,5,5,6,6,7]\n",
    "print(remove_adjacent(adj4))"
   ]
  },
  {
   "cell_type": "code",
   "execution_count": 116,
   "id": "ba4642b9",
   "metadata": {},
   "outputs": [],
   "source": [
    "#QUES-7(e)"
   ]
  },
  {
   "cell_type": "code",
   "execution_count": 117,
   "id": "e926e9f0",
   "metadata": {},
   "outputs": [
    {
     "name": "stdout",
     "output_type": "stream",
     "text": [
      "[6, 7, 8, 9]\n"
     ]
    }
   ],
   "source": [
    " def remove_adjacent(adj5):\n",
    "    final_list = []\n",
    "    for num in adj5:\n",
    "        if num not in final_list:\n",
    "            final_list.append(num)\n",
    "    return final_list\n",
    "adj5 = [6,7,7,8,9,9]\n",
    "print(remove_adjacent(adj5))"
   ]
  },
  {
   "cell_type": "code",
   "execution_count": 119,
   "id": "787fa217",
   "metadata": {},
   "outputs": [],
   "source": [
    "#QUES-8"
   ]
  },
  {
   "cell_type": "code",
   "execution_count": 12,
   "id": "3d007af9",
   "metadata": {},
   "outputs": [
    {
     "name": "stdout",
     "output_type": "stream",
     "text": [
      "hailing\n",
      "swmimmingly\n",
      "do\n"
     ]
    }
   ],
   "source": [
    "def add_string(str1):\n",
    "  length = len(str1)\n",
    "\n",
    "  if length > 2:\n",
    "    if str1[-3:] == 'ing':\n",
    "      str1 += 'ly'\n",
    "    else:\n",
    "      str1 += 'ing'\n",
    "\n",
    "  return str1\n",
    "print(add_string('hail'))\n",
    "print(add_string('swmimming'))\n",
    "print(add_string('do'))"
   ]
  },
  {
   "cell_type": "code",
   "execution_count": 120,
   "id": "02eeef3f",
   "metadata": {},
   "outputs": [],
   "source": [
    "#QUES-9"
   ]
  },
  {
   "cell_type": "code",
   "execution_count": 104,
   "id": "60c0645c",
   "metadata": {},
   "outputs": [
    {
     "name": "stdout",
     "output_type": "stream",
     "text": [
      "This dinner is not that bad!\n",
      "This dinner is good!\n"
     ]
    }
   ],
   "source": [
    "def not_bad(str1):\n",
    "    snot = str1.find('not')\n",
    "    sbad = str1.find('bad')\n",
    "    if sbad > snot and snot>0 and sbad>0:\n",
    "        str1 = str1.replace(str1[snot:(sbad+4)], 'good')\n",
    "        return str1\n",
    "    else:\n",
    "        return str1\n",
    "print('This dinner is not that bad!')\n",
    "print('This dinner is good!')"
   ]
  }
 ],
 "metadata": {
  "kernelspec": {
   "display_name": "Python 3 (ipykernel)",
   "language": "python",
   "name": "python3"
  },
  "language_info": {
   "codemirror_mode": {
    "name": "ipython",
    "version": 3
   },
   "file_extension": ".py",
   "mimetype": "text/x-python",
   "name": "python",
   "nbconvert_exporter": "python",
   "pygments_lexer": "ipython3",
   "version": "3.10.9"
  }
 },
 "nbformat": 4,
 "nbformat_minor": 5
}
