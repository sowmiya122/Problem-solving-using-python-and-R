{
 "cells": [
  {
   "cell_type": "markdown",
   "id": "ece64705",
   "metadata": {},
   "source": [
    "                                  LAB-6 PYTHON FILE PROCESSING"
   ]
  },
  {
   "cell_type": "code",
   "execution_count": 70,
   "id": "d8d81b2e",
   "metadata": {},
   "outputs": [],
   "source": [
    "#225229138- B.SOWMIYA"
   ]
  },
  {
   "cell_type": "markdown",
   "id": "c3402dfe",
   "metadata": {},
   "source": [
    "Question1. Write a program for Password Management System\n",
    "File creation: Ask user to enter N user names and their passwords. Store usernames and\n",
    "passwords into a file named “loginfile.txt”. Store each user and password in one line.\n",
    "File Processing: Write a program that opens your “security.txt” file and reads usernames\n",
    "and passwords from it. Store user names in one list and passwords in another lists.\n",
    "Querying: ask user to enter user name and password for verification. If they match the\n",
    "values stored in the lists, print a message “Login Successful”. Otherwise print a message\n",
    "“Login Failed, try again”."
   ]
  },
  {
   "cell_type": "code",
   "execution_count": null,
   "id": "2c24d868",
   "metadata": {},
   "outputs": [],
   "source": [
    "#QUES-1(a)"
   ]
  },
  {
   "cell_type": "code",
   "execution_count": 1,
   "id": "61c0f109",
   "metadata": {},
   "outputs": [
    {
     "name": "stdout",
     "output_type": "stream",
     "text": [
      "ENTER THE NO OF LOGIN ID TO BE CREATED :5\n",
      "ENTER THE USER NAME :sowmi\n",
      "ENTER THE PASSWORD : sow@12\n",
      "ENTER THE USER NAME :sam\n",
      "ENTER THE PASSWORD : sam#23\n",
      "ENTER THE USER NAME :ram\n",
      "ENTER THE PASSWORD : dsa@1234\n",
      "ENTER THE USER NAME :tommy\n",
      "ENTER THE PASSWORD : tom$33\n",
      "ENTER THE USER NAME :rex\n",
      "ENTER THE PASSWORD : rec@123\n"
     ]
    }
   ],
   "source": [
    "with open(\"loginfile.txt\",'w')as f:\n",
    "    n=int(input(\"ENTER THE NO OF LOGIN ID TO BE CREATED :\"))\n",
    "    for i in range(n):\n",
    "        username=input(\"ENTER THE USER NAME :\")\n",
    "        pw=input(\"ENTER THE PASSWORD : \")\n",
    "        login=username+' '+pw+\"\\n\"\n",
    "        f.write(login)\n",
    "    f.close"
   ]
  },
  {
   "cell_type": "code",
   "execution_count": 71,
   "id": "acd8b50b",
   "metadata": {},
   "outputs": [],
   "source": [
    "#QUES-1(b)"
   ]
  },
  {
   "cell_type": "code",
   "execution_count": 2,
   "id": "4b21dce4",
   "metadata": {},
   "outputs": [],
   "source": [
    "import shutil"
   ]
  },
  {
   "cell_type": "code",
   "execution_count": 3,
   "id": "d6e08cb5",
   "metadata": {},
   "outputs": [
    {
     "name": "stdout",
     "output_type": "stream",
     "text": [
      "\n"
     ]
    }
   ],
   "source": [
    "lst=[]\n",
    "with open (\"security.txt\",\"w+\")as f:\n",
    "    shutil.copyfile(\"loginfile.txt\",'security.txt')\n",
    "    for i in f:\n",
    "        lst.append(i)\n",
    "    a=f.read()\n",
    "    print(a)\n",
    "    f.close()"
   ]
  },
  {
   "cell_type": "code",
   "execution_count": 72,
   "id": "37a8dc4c",
   "metadata": {},
   "outputs": [],
   "source": [
    "#QUES-1(c)"
   ]
  },
  {
   "cell_type": "code",
   "execution_count": 4,
   "id": "5b051f67",
   "metadata": {},
   "outputs": [
    {
     "name": "stdout",
     "output_type": "stream",
     "text": [
      "ENTER THE USER NAME :sowmi\n",
      "ENTER THE PASSWORD : sow@12\n",
      "Login Successful\n"
     ]
    }
   ],
   "source": [
    "username=input(\"ENTER THE USER NAME :\")\n",
    "pw=input(\"ENTER THE PASSWORD : \")\n",
    "login=username+' '+pw+\"\\n\"\n",
    "if login in lst:\n",
    "    print(\"Login Successful\")\n",
    "else:\n",
    "    print(\"Login failed,try again\")"
   ]
  },
  {
   "cell_type": "code",
   "execution_count": 73,
   "id": "d6b7fe3a",
   "metadata": {},
   "outputs": [],
   "source": [
    "#QUES-1(d)"
   ]
  },
  {
   "cell_type": "code",
   "execution_count": 5,
   "id": "0468508f",
   "metadata": {},
   "outputs": [
    {
     "name": "stdout",
     "output_type": "stream",
     "text": [
      "ENTER THE USER NAME :Sowmiya\n",
      "ENTER THE PASSWORD : djjhh@12\n",
      "Login failed,try again\n"
     ]
    }
   ],
   "source": [
    "username=input(\"ENTER THE USER NAME :\")\n",
    "pw=input(\"ENTER THE PASSWORD : \")\n",
    "login=username+' '+pw+\"\\n\"\n",
    "if login in lst:\n",
    "    print(\"Login Successful\")\n",
    "else:\n",
    "    print(\"Login failed,try again\")"
   ]
  },
  {
   "cell_type": "markdown",
   "id": "578269db",
   "metadata": {},
   "source": [
    "Question2. Write a program for Student Performance Analysis\n",
    "Create a text file, 'marks.txt', with N marks as floating point numbers. Open the file, read\n",
    "marks from it and compute and print the highest mark.\n",
    "If the user runs the program more than once you should not overwrite the previous text\n",
    "file – simply append the marks to the end of the file.\n",
    "Modify the above program so that it also prints Top-3 highest marks (Note: you may need\n",
    "to use list concept)\n",
    "Modify the above program so that it also prints the Lowest-3 marks."
   ]
  },
  {
   "cell_type": "code",
   "execution_count": null,
   "id": "8d2a3703",
   "metadata": {},
   "outputs": [],
   "source": [
    "#QUES-2(a)"
   ]
  },
  {
   "cell_type": "code",
   "execution_count": 10,
   "id": "655bd2a0",
   "metadata": {},
   "outputs": [
    {
     "name": "stdout",
     "output_type": "stream",
     "text": [
      "No. of Marks :5\n",
      "Enter value:95\n",
      "Enter value:85\n",
      "Enter value:97\n",
      "Enter value:92\n",
      "Enter value:78\n"
     ]
    }
   ],
   "source": [
    "m=open(\"marks.txt\", \"a\")\n",
    "n=int(input(\"No. of Marks :\")) \n",
    "l=[] \n",
    "for i in range(n): \n",
    "    li=float(input(\"Enter value:\")) \n",
    "    l.append(li) \n",
    "m.write(str(l)) \n",
    "m.close() "
   ]
  },
  {
   "cell_type": "code",
   "execution_count": 74,
   "id": "4cd6e519",
   "metadata": {},
   "outputs": [],
   "source": [
    "#QUES-2(b)"
   ]
  },
  {
   "cell_type": "code",
   "execution_count": 12,
   "id": "13863718",
   "metadata": {},
   "outputs": [
    {
     "name": "stdout",
     "output_type": "stream",
     "text": [
      "Highest Mark : 97.0\n",
      "Top 3 Marks :  [97.0, 95.0, 92.0]\n",
      "Low 3 Marks :  [78.0, 85.0, 92.0]\n",
      "Low Mark : 78.0\n"
     ]
    }
   ],
   "source": [
    "m=open(\"marks.txt\",\"r\")\n",
    "m.read()\n",
    "print(\"Highest Mark :\",max(l))\n",
    "l.sort(reverse=True) \n",
    "print(\"Top 3 Marks : \",(l[:3])) \n",
    "l.sort() \n",
    "print(\"Low 3 Marks : \",(l[:3])) \n",
    "print(\"Low Mark :\",min(l))\n",
    "m.close() \n"
   ]
  },
  {
   "cell_type": "markdown",
   "id": "d9d920b8",
   "metadata": {},
   "source": [
    "Question3. Write a program for Stock Price Analysis\n",
    "File Creation: Continually prompt a user for stock name, followed by price values for 5\n",
    "days. Each row indicates stock name and daily prices of one stock. Store these values in\n",
    "a text file called “stock-prices.txt”. Open the file in Append Mode. Prompt message “Do\n",
    "you want to continue? “ and stop reading values accordingly. Then, you can close your\n",
    "file.\n",
    "File Processing: Now, open your file for processing. Print stock name, minimum price,\n",
    "maximum price and average price values.\n",
    "You can also print which day stock price was lowest in the week and which day stock price\n",
    "was highest. So, modify your print statement to print stock name, minimum price & day\n",
    "of minimum price, maximum price & day of maximum price and average price values.\n",
    "(Hint: Use enumerate to get index values)"
   ]
  },
  {
   "cell_type": "code",
   "execution_count": 75,
   "id": "a5292a0e",
   "metadata": {},
   "outputs": [],
   "source": [
    "#QUES-3(a)"
   ]
  },
  {
   "cell_type": "code",
   "execution_count": 31,
   "id": "276c5d7a",
   "metadata": {},
   "outputs": [
    {
     "name": "stdout",
     "output_type": "stream",
     "text": [
      "Enter the name: apple\n",
      "85\n",
      "95\n",
      "75\n",
      "45\n",
      "55\n",
      "want to continue : m\n",
      "Enter the name: banana\n",
      "95\n",
      "35\n",
      "55\n",
      "75\n",
      "65\n",
      "want to continue : m\n",
      "Enter the name: guava\n",
      "96\n",
      "54\n",
      "55\n",
      "25\n",
      "45\n",
      "want to continue : n\n"
     ]
    }
   ],
   "source": [
    "while True: \n",
    "    st_name=str(input(\"Enter the name: \")) \n",
    "    file=open(\"stockprices.txt\",\"a\") \n",
    "    file.write(st_name) \n",
    "    file.write(\" \") \n",
    "    for i in range(5): \n",
    "        p=input() \n",
    "        file.write(p) \n",
    "        file.write(\" \") \n",
    "    file.write(\"\\n\") \n",
    "    con = str(input(\"want to continue : \")) \n",
    "    if con =='n': \n",
    "        break \n",
    "file.close() "
   ]
  },
  {
   "cell_type": "code",
   "execution_count": null,
   "id": "c2fd2ec1",
   "metadata": {},
   "outputs": [],
   "source": [
    "#QUES-3(b)"
   ]
  },
  {
   "cell_type": "code",
   "execution_count": 32,
   "id": "1b749096",
   "metadata": {},
   "outputs": [
    {
     "name": "stdout",
     "output_type": "stream",
     "text": [
      "apple\n",
      "45\n",
      "45\n",
      "9.0\n",
      "\n",
      "\n",
      "banana\n",
      "75\n",
      "75\n",
      "15.0\n",
      "\n",
      "\n",
      "guava\n",
      "25\n",
      "25\n",
      "5.0\n",
      "\n",
      "\n"
     ]
    }
   ],
   "source": [
    "for st in open(\"stockprices.txt\",\"r\").readlines(): \n",
    "    p_min=[] \n",
    "    calc=st.split() \n",
    "    print(calc[0]) \n",
    "    p_min.append(int(calc[i])) \n",
    "    print(min(p_min)) \n",
    "    print(max(p_min)) \n",
    "    av=sum(p_min) \n",
    "    avg=av/5 \n",
    "    print(avg) \n",
    "    print(\"\\n\") "
   ]
  },
  {
   "cell_type": "code",
   "execution_count": null,
   "id": "37437837",
   "metadata": {},
   "outputs": [],
   "source": [
    "#QUES-3(c)"
   ]
  },
  {
   "cell_type": "code",
   "execution_count": 34,
   "id": "d9433680",
   "metadata": {},
   "outputs": [
    {
     "name": "stdout",
     "output_type": "stream",
     "text": [
      "-------------------------\n",
      "apple\n",
      "min price  85  on day  1\n",
      "max price  85  on day  1\n",
      "min price  85  on day  1\n",
      "max price  95  on day  2\n",
      "-------------------------\n",
      "banana\n",
      "min price  95  on day  1\n",
      "max price  95  on day  1\n",
      "min price  35  on day  2\n",
      "max price  95  on day  1\n",
      "-------------------------\n",
      "guava\n",
      "min price  96  on day  1\n",
      "max price  96  on day  1\n",
      "min price  54  on day  2\n",
      "max price  96  on day  1\n"
     ]
    }
   ],
   "source": [
    " for st in open(\"stockprices.txt\",\"r\").readlines(): \n",
    "    p_min=[] \n",
    "    print(\"-------------------------\") \n",
    "    calc=st.split() \n",
    "    print(calc[0]) \n",
    "    for i in range(1,3): \n",
    "        p_min.append(int(calc[i])) \n",
    "        mip=min(p_min) \n",
    "        mxp=max(p_min) \n",
    "        im=p_min.index(mip) \n",
    "        ix=p_min.index(mxp) \n",
    "        print(\"min price \",mip,\" on day \",im+1) \n",
    "        print(\"max price \",mxp,\" on day \",ix+1) \n"
   ]
  },
  {
   "cell_type": "markdown",
   "id": "45c66dc0",
   "metadata": {},
   "source": [
    "Question4. Write a program for File Explorer\n",
    "Display the contents of file\n",
    "Count the number of lines in a text file. (Use splitlines())\n",
    "Count the number of unique words in a file.\n",
    "Find frequency of words in a given file. (Hint: Use Counter object)\n",
    "Show a random line in a file. (Use Random object)"
   ]
  },
  {
   "cell_type": "code",
   "execution_count": 76,
   "id": "3ece2ebf",
   "metadata": {},
   "outputs": [],
   "source": [
    "#QUES-4(a)"
   ]
  },
  {
   "cell_type": "code",
   "execution_count": 36,
   "id": "f9b75063",
   "metadata": {},
   "outputs": [
    {
     "name": "stdout",
     "output_type": "stream",
     "text": [
      "1.Display the contents of File:\n",
      "                                                                 NATURE\n",
      "Nature  is an important and integral part of mankind. It is one of the greatest blessings for human life; however, nowadays humans fail to recognize it as one. Nature has been an inspiration for numerous poets, writers, artists and more of yesteryears. This remarkable creation inspired them to write poems and stories in the glory of it. They truly valued nature which reflects in their works even today. Essentially, nature is everything we are surrounded by like the water we drink, the air we breathe, the sun we soak in, the birds we hear chirping, the moon we gaze at and more. Above all, it is rich and vibrant and consists of both living and non-living things. Therefore, people of the modern age should also learn something from people of yesteryear and start valuing nature before it gets too late.Nature has been in existence long before humans and ever since it has taken care of mankind and nourished it forever. In other words, it offers us a protective layer which guards us against all kinds of damages and harms. Survival of mankind without nature is impossible and humans need to understand that.\n",
      "\n",
      "If nature has the ability to protect us, it is also powerful enough to destroy the entire mankind. Every form of nature, for instance, the plants, animals, rivers, mountains, moon, and more holds equal significance for us. Absence of one element is enough to cause a catastrophe in the functioning of human life.\n",
      "\n",
      "We fulfill our healthy lifestyle by eating and drinking healthy, which nature gives us. Similarly, it provides us with water and food that enables us to do so. Rainfall and sunshine, the two most important elements to survive are derived from nature itself.\n",
      "\n",
      "Further, the air we breathe and the wood we use for various purposes are a gift of nature only. But, with technological advancements, people are not paying attention to nature. The need to conserve and balance the natural assets is rising day by day which requires immediate attention.In order to conserve nature, we must take drastic steps right away to prevent any further damage. The most important step is to prevent deforestation at all levels. Cutting down of trees has serious consequences in different spheres. It can cause soil erosion easily and also bring a decline in rainfall on a major level.\n",
      "\n"
     ]
    }
   ],
   "source": [
    "print(\"1.Display the contents of File:\") \n",
    "f = open(\"show.txt\",'r') \n",
    "display = f.read() \n",
    "print(display) \n",
    "f.close() \n",
    "print(\"\") "
   ]
  },
  {
   "cell_type": "code",
   "execution_count": 77,
   "id": "3c2628bc",
   "metadata": {},
   "outputs": [],
   "source": [
    "#QUES-4(b)"
   ]
  },
  {
   "cell_type": "code",
   "execution_count": 37,
   "id": "a3051398",
   "metadata": {},
   "outputs": [
    {
     "name": "stdout",
     "output_type": "stream",
     "text": [
      "2.Count the number of lines in a text file:\n",
      "Number of lines in the text file: 2367\n",
      "\n",
      "\n"
     ]
    }
   ],
   "source": [
    "print(\"2.Count the number of lines in a text file:\") \n",
    "file = open('show.txt',\"r\") \n",
    "Counter = 0 \n",
    "a = file.read() \n",
    "a.split(\"\\n\") \n",
    "  \n",
    "for i in a: \n",
    "    if i: \n",
    "        Counter += 1 \n",
    "print(\"Number of lines in the text file:\",Counter) \n",
    "print(\"\\n\") "
   ]
  },
  {
   "cell_type": "code",
   "execution_count": null,
   "id": "7ad22747",
   "metadata": {},
   "outputs": [],
   "source": [
    "#QUES-4(c)"
   ]
  },
  {
   "cell_type": "code",
   "execution_count": 39,
   "id": "d80e1821",
   "metadata": {},
   "outputs": [
    {
     "name": "stdout",
     "output_type": "stream",
     "text": [
      "3.Count the number of unique words in a file:\n",
      "Number of words: 391\n",
      "\n",
      "\n"
     ]
    }
   ],
   "source": [
    "print(\"3.Count the number of unique words in a file:\") \n",
    "num_words = 0 \n",
    "c = open(\"show.txt\", 'r') \n",
    "for line in c: \n",
    "    words = line.split() \n",
    "    num_words += len(words) \n",
    "print(\"Number of words:\",num_words) \n",
    "c.close() \n",
    "print(\"\\n\") \n"
   ]
  },
  {
   "cell_type": "code",
   "execution_count": null,
   "id": "1c86860f",
   "metadata": {},
   "outputs": [],
   "source": [
    "#QUES-4(d)"
   ]
  },
  {
   "cell_type": "code",
   "execution_count": 40,
   "id": "38cc814d",
   "metadata": {},
   "outputs": [
    {
     "name": "stdout",
     "output_type": "stream",
     "text": [
      "4.Find Find frequency of words in a given file:\n",
      "Enter the file name: show.txt\n",
      "{'Further,': 1, 'the': 3, 'air': 1, 'we': 3, 'breathe': 1, 'and': 3, 'wood': 1, 'use': 1, 'for': 1, 'various': 1, 'purposes': 1, 'are': 2, 'a': 3, 'gift': 1, 'of': 2, 'nature': 1, 'only.': 1, 'But,': 1, 'with': 1, 'technological': 1, 'advancements,': 1, 'people': 1, 'not': 1, 'paying': 1, 'attention': 1, 'to': 5, 'nature.': 1, 'The': 2, 'need': 1, 'conserve': 2, 'balance': 1, 'natural': 1, 'assets': 1, 'is': 2, 'rising': 1, 'day': 2, 'by': 1, 'which': 1, 'requires': 1, 'immediate': 1, 'attention.In': 1, 'order': 1, 'nature,': 1, 'must': 1, 'take': 1, 'drastic': 1, 'steps': 1, 'right': 1, 'away': 1, 'prevent': 2, 'any': 1, 'further': 1, 'damage.': 1, 'most': 1, 'important': 1, 'step': 1, 'deforestation': 1, 'at': 1, 'all': 1, 'levels.': 1, 'Cutting': 1, 'down': 1, 'trees': 1, 'has': 1, 'serious': 1, 'consequences': 1, 'in': 2, 'different': 1, 'spheres.': 1, 'It': 1, 'can': 1, 'cause': 1, 'soil': 1, 'erosion': 1, 'easily': 1, 'also': 1, 'bring': 1, 'decline': 1, 'rainfall': 1, 'on': 1, 'major': 1, 'level.': 1}\n",
      "\n",
      "\n"
     ]
    }
   ],
   "source": [
    "print(\"4.Find Find frequency of words in a given file:\") \n",
    "fname = input('Enter the file name: ') \n",
    "try: \n",
    "    fhand = open(fname) \n",
    "    counts = dict() \n",
    "    for line in fhand: \n",
    "        words = line.split() \n",
    "    for word in words: \n",
    "        if word in counts: \n",
    "            counts[word] += 1 \n",
    "        else: \n",
    "            counts[word] = 1 \n",
    "    print(counts) \n",
    "except: \n",
    "    print('File cannot be opened:', fname) \n",
    "print(\"\\n\") \n"
   ]
  },
  {
   "cell_type": "code",
   "execution_count": null,
   "id": "56680115",
   "metadata": {},
   "outputs": [],
   "source": [
    "#QUES-4(e)"
   ]
  },
  {
   "cell_type": "code",
   "execution_count": 78,
   "id": "b43e7df9",
   "metadata": {},
   "outputs": [
    {
     "name": "stdout",
     "output_type": "stream",
     "text": [
      "Show a random line in a file:\n",
      "We fulfill our healthy lifestyle by eating and drinking healthy, which nature gives us. Similarly, it provides us with water and food that enables us to do so. Rainfall and sunshine, the two most important elements to survive are derived from nature itself.\n"
     ]
    }
   ],
   "source": [
    "print(\"Show a random line in a file:\") \n",
    "import random \n",
    "def random_line(fname): \n",
    "    lines = open(fname).read().splitlines() \n",
    "    return random.choice(lines) \n",
    "print(random_line('show.txt')) "
   ]
  },
  {
   "cell_type": "markdown",
   "id": "feee3e45",
   "metadata": {},
   "source": [
    "Question5. [File Searcher]. Develop an application in Python to read through the email data\n",
    "(“mbox-short.txt”) and when you find line that starts with “From”, you will split the line\n",
    "into words using the split function. We are interested in who sent the message, which is the\n",
    "second word on the From line: From stephen.marquard@uct.ac.za Sat Jan 5 09:14:16 2008.\n",
    "You will parse the From line and print out the second word for each From line, then you will\n",
    "also count the number of From (not From:) lines and print out a count at the end"
   ]
  },
  {
   "cell_type": "code",
   "execution_count": 1,
   "id": "5854392b",
   "metadata": {},
   "outputs": [],
   "source": [
    "#QUES-5(a)"
   ]
  },
  {
   "cell_type": "code",
   "execution_count": 5,
   "id": "32198030",
   "metadata": {},
   "outputs": [
    {
     "name": "stdout",
     "output_type": "stream",
     "text": [
      "From sowmiya123.blss@uct.edu Sun Feb 1 08:15:16 2008\n",
      "\n",
      "\n",
      "From stephen.marquard@uct.ac.za Sat Jan 5 09:14:16 2008\n",
      "\n",
      "\n",
      "From louis@media.berkeley.edu Fri Jan 4 18:10:48 2008\n",
      "\n",
      "\n",
      "From zqian@umich.edu Fri Jan 4 16:10:39 2008\n",
      "\n",
      "\n",
      "From rjlowe@iupui.edu Fri Jan 4 15:46:24 2008\n",
      "\n",
      "\n",
      "From zqian@umich.edu Fri Jan 4 15:03:18 2008\n",
      "\n",
      "\n",
      "From rjlowe@iupui.edu Fri Jan 4 14:50:18 2008\n",
      "\n",
      "\n",
      "From cwen@iupui.edu Fri Jan 4 11:37:30 2008\n",
      "\n",
      "\n",
      "From cwen@iupui.edu Fri Jan 4 11:35:08 2008\n",
      "\n",
      "\n",
      "From gsilver@umich.edu Fri Jan 4 11:12:37 2008\n",
      "\n",
      "\n",
      "From gsilver@umich.edu Fri Jan 4 11:11:52 2008\n",
      "\n",
      "\n",
      "From zqian@umich.edu Fri Jan 4 11:11:03 2008\n",
      "\n",
      "\n",
      "From gsilver@umich.edu Fri Jan 4 11:10:22 2008\n",
      "\n",
      "\n",
      "From wagnermr@iupui.edu Fri Jan 4 10:38:42 2008\n",
      "\n",
      "\n",
      "From zqian@umich.edu Fri Jan 4 10:17:43 2008\n",
      "\n",
      "\n",
      "From antranig@caret.cam.ac.uk Fri Jan 4 10:04:14 2008\n",
      "\n",
      "\n",
      "From gopal.ramasammycook@gmail.com Fri Jan 4 09:05:31 2008\n",
      "\n",
      "\n",
      "From david.horwitz@uct.ac.za Fri Jan 4 07:02:32 2008\n",
      "\n",
      "\n",
      "From david.horwitz@uct.ac.za Fri Jan 4 06:08:27 2008\n",
      "\n",
      "\n",
      "From david.horwitz@uct.ac.za Fri Jan 4 04:49:08 2008\n",
      "\n",
      "\n",
      "From david.horwitz@uct.ac.za Fri Jan 4 04:33:44 2008\n",
      "\n",
      "\n",
      "From stephen.marquard@uct.ac.za Fri Jan 4 04:07:34 2008\n",
      "\n",
      "\n",
      "From louis@media.berkeley.edu Thu Jan 3 19:51:21 2008\n",
      "\n",
      "\n",
      "From louis@media.berkeley.edu Thu Jan 3 17:18:23 2008\n",
      "\n",
      "\n",
      "From ray@media.berkeley.edu Thu Jan 3 17:07:00 2008\n",
      "\n",
      "\n",
      "From cwen@iupui.edu Thu Jan 3 16:34:40 2008\n",
      "\n",
      "\n",
      "From cwen@iupui.edu Thu Jan 3 16:29:07 2008\n",
      "\n",
      "\n",
      "From cwen@iupui.edu Thu Jan 3 16:23:48 2008\n",
      "\n",
      "\n"
     ]
    }
   ],
   "source": [
    " fhand = open('mbox-short.txt') \n",
    "for line in fhand: \n",
    "    line = line.rstrip() \n",
    "    if line.startswith('From '): \n",
    "        print(line)\n",
    "    print('\\n')"
   ]
  },
  {
   "cell_type": "code",
   "execution_count": 3,
   "id": "b7cf368e",
   "metadata": {},
   "outputs": [],
   "source": [
    "#QUES-5(b)"
   ]
  },
  {
   "cell_type": "code",
   "execution_count": 10,
   "id": "9c6ab64c",
   "metadata": {},
   "outputs": [
    {
     "name": "stdout",
     "output_type": "stream",
     "text": [
      "sowmiya123.blss@uct.edu\n",
      "stephen.marquard@uct.ac.za\n",
      "louis@media.berkeley.edu\n",
      "zqian@umich.edu\n",
      "rjlowe@iupui.edu\n",
      "zqian@umich.edu\n",
      "rjlowe@iupui.edu\n",
      "cwen@iupui.edu\n",
      "cwen@iupui.edu\n",
      "gsilver@umich.edu\n",
      "gsilver@umich.edu\n",
      "zqian@umich.edu\n",
      "gsilver@umich.edu\n",
      "wagnermr@iupui.edu\n",
      "zqian@umich.edu\n",
      "antranig@caret.cam.ac.uk\n",
      "gopal.ramasammycook@gmail.com\n",
      "david.horwitz@uct.ac.za\n",
      "david.horwitz@uct.ac.za\n",
      "david.horwitz@uct.ac.za\n",
      "david.horwitz@uct.ac.za\n",
      "stephen.marquard@uct.ac.za\n",
      "louis@media.berkeley.edu\n",
      "louis@media.berkeley.edu\n",
      "ray@media.berkeley.edu\n",
      "cwen@iupui.edu\n",
      "cwen@iupui.edu\n",
      "cwen@iupui.edu\n",
      "There were 28 lines in the file with From as the first word\n"
     ]
    }
   ],
   "source": [
    "fhand = open(\"mbox-short.txt\") \n",
    "count = 0 \n",
    "for line in fhand: \n",
    "    line = line.rstrip() \n",
    "    if line == \"\": continue \n",
    "    words = line.split() \n",
    "    if words[0] !=\"From\": continue \n",
    "    print(words[1]) \n",
    "    count = count+1 \n",
    "print (\"There were\", count, \"lines in the file with From as the first word\") "
   ]
  },
  {
   "cell_type": "raw",
   "id": "982e27eb",
   "metadata": {},
   "source": []
  },
  {
   "cell_type": "markdown",
   "id": "a44bbd1f",
   "metadata": {},
   "source": [
    "Question6. Write a program to read and write CSV files\n",
    "File Creation: Create MS Excel file (“student_marks.csv”) with 5 rows of student name,\n",
    "mark1, mark2, mark3, mark4. Use comma to separate each value in a row.\n",
    "File Display: Now, open your CSV file and display the file contents row by row (More\n",
    "information at: https://docs.python.org/3/library/csv.html).\n",
    "File Writing: Now, open (“student_marks.csv”) for writing. Ask user to enter name\n",
    "followed by 4 marks for one new student and write them onto the file."
   ]
  },
  {
   "cell_type": "code",
   "execution_count": null,
   "id": "67e33b04",
   "metadata": {},
   "outputs": [],
   "source": [
    "#QUES-6"
   ]
  },
  {
   "cell_type": "code",
   "execution_count": 68,
   "id": "b97e4578",
   "metadata": {},
   "outputs": [],
   "source": [
    " from csv import writer \n",
    "def append_list_as_row(file_name, list_of_elem): \n",
    "    with open('student_marks.csv', 'at', newline='') as write_obj: \n",
    "        csv_writer = writer(write_obj) \n",
    "        csv_writer.writerow(list_of_elem) \n",
    "row_contents = ['Sowmi',68,78,89,87,90] \n",
    "row_contents1 = ['lakshu',68,78,89,87,90] \n",
    "row_contents2 = ['sam',68,78,89,87,90] \n",
    "row_contents3 = ['tom',68,78,89,87,90] \n",
    "append_list_as_row('student_marks.csv', row_contents) \n",
    "append_list_as_row('student_marks.csv', row_contents1) \n",
    "append_list_as_row('student_marks.csv', row_contents2) \n",
    "append_list_as_row('student_marks.csv', row_contents3) \n"
   ]
  },
  {
   "cell_type": "code",
   "execution_count": 69,
   "id": "15f15b6f",
   "metadata": {},
   "outputs": [
    {
     "name": "stdout",
     "output_type": "stream",
     "text": [
      "Sowmi,68,78,89,87,90\n",
      "lakshu,68,78,89,87,90\n",
      "sam,68,78,89,87,90\n",
      "tom,68,78,89,87,90\n"
     ]
    }
   ],
   "source": [
    "import csv \n",
    "with open('student_marks.csv', newline ='') as csvfile: \n",
    "    reader = csv.reader(csvfile, delimiter =' ', quotechar ='1') \n",
    "    for row in reader: \n",
    "        print(', '.join(row)) "
   ]
  }
 ],
 "metadata": {
  "kernelspec": {
   "display_name": "Python 3 (ipykernel)",
   "language": "python",
   "name": "python3"
  },
  "language_info": {
   "codemirror_mode": {
    "name": "ipython",
    "version": 3
   },
   "file_extension": ".py",
   "mimetype": "text/x-python",
   "name": "python",
   "nbconvert_exporter": "python",
   "pygments_lexer": "ipython3",
   "version": "3.10.9"
  }
 },
 "nbformat": 4,
 "nbformat_minor": 5
}
