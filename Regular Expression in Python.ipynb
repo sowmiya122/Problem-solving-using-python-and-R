{
 "cells": [
  {
   "cell_type": "markdown",
   "metadata": {},
   "source": [
    "225229138"
   ]
  },
  {
   "cell_type": "markdown",
   "metadata": {},
   "source": [
    "# Lab-8.Python Regular Expressions"
   ]
  },
  {
   "cell_type": "markdown",
   "metadata": {},
   "source": [
    "Question1. Using Email Collections file, mbox-short.txt, write a python program for the following queries."
   ]
  },
  {
   "cell_type": "code",
   "execution_count": 1,
   "metadata": {},
   "outputs": [
    {
     "data": {
      "text/plain": [
       "'From bala123.blss@uct.edu Sun Feb 1 08:15:16 2008\\nFrom stephen.marquard@uct.ac.za Sat Jan 5 09:14:16 2008 \\nFrom louis@media.berkeley.edu Fri Jan 4 18:10:48 2008 \\nFrom zoean@umich.edu Fri Jan 4 16:10:39 2008 \\nFrom rjlowe@iupui.edu Fri Jan 4 15:46:24 2008 \\nFrom zqian@umich.edu Fri Jan 4 15:03:18 2008 \\nFrom rjlowe@iupui.edu Fri Jan 4 14:50:18 2008 \\nFrom cwen@iupui.edu Fri Jan 4 11:37:30 2008 \\nXhhgff:0.1234@rfh.edu Thu Sat 12:35:20 2011\\nFrom cwen@iupui.edu Fri Jan 4 11:35:08 2008 \\nFrom gsilver@umich.edu Fri Jan 4 11:12:37 2008 \\nFrom gsilver@umich.edu Fri Jan 4 11:11:52 2008 \\nFrom zqian@umich.edu Fri Jan 4 11:11:03 2008 \\nXavugf123@hgffhuhj.edu Thu Oct 7 12:34:23 2008\\nFrom gsilver@umich.edu Fri Jan 4 11:10:22 2008 \\nFrom wagnermr@iupui.edu Fri Jan 4 10:38:42 2008 \\nXavier:@hbgfhjk.edu Sat Aug 6 12:25:45 2010\\nFrom zqian@umich.edu Fri Jan 4 10:17:43 2008 \\nFrom antranig@caret.cam.ac.uk Fri Jan 4 10:04:14 2008 \\nFrom gopal.ramasammycook@gmail.com Fri Jan 4 09:05:31 2008 \\nFrom david.horwitz@uct.ac.za Fri Jan 4 07:02:32 2008 \\nFrom david.horwitz@uct.ac.za Fri Jan 4 06:08:27 2008 \\nFrom david.horwitz@uct.ac.za Fri Jan 4 04:49:08 2008 \\nFrom david.horwitz@uct.ac.za Fri Jan 4 04:33:44 2008 \\nFrom stephen.marquard@uct.ac.za Fri Jan 4 04:07:34 2008 \\nXkjhuyjhj:0.544@jhygyg.edu Mon Feb 5 09:05:34 2012\\nFrom louis@media.berkeley.edu Thu Jan 3 19:51:21 2008 \\nFrom louis@media.berkeley.edu Thu Jan 3 17:18:23 2008 \\nFrom ray@media.berkeley.edu Thu Jan 3 17:07:00 2008 \\nFrom cwen@iupui.edu Thu Jan 3 16:34:40 2008 \\nFrom cwen@iupui.edu Thu Jan 3 16:29:07 2008 \\nFrom cwen@iupui.edu Thu Jan 3 16:23:48 2008 \\nXkiuhuhu:65568@jhjrhuh.edu Tue Jun 15:34:27 2006\\nDetails:rev=12376764@hbfghbf.edu hfyguydgh j2001\\nDetails:rev=766534567@hggffgh.edu \\nDetails:rev=7654567@nhgfhkkig.com'"
      ]
     },
     "execution_count": 1,
     "metadata": {},
     "output_type": "execute_result"
    }
   ],
   "source": [
    "f=open(\"mbox-short.txt\")\n",
    "f.read()"
   ]
  },
  {
   "cell_type": "markdown",
   "metadata": {},
   "source": [
    "1. Search for lines that contain From and print them ."
   ]
  },
  {
   "cell_type": "code",
   "execution_count": 2,
   "metadata": {},
   "outputs": [
    {
     "name": "stdout",
     "output_type": "stream",
     "text": [
      "From bala123.blss@uct.edu Sun Feb 1 08:15:16 2008\n",
      "From stephen.marquard@uct.ac.za Sat Jan 5 09:14:16 2008\n",
      "From louis@media.berkeley.edu Fri Jan 4 18:10:48 2008\n",
      "From zoean@umich.edu Fri Jan 4 16:10:39 2008\n",
      "From rjlowe@iupui.edu Fri Jan 4 15:46:24 2008\n",
      "From zqian@umich.edu Fri Jan 4 15:03:18 2008\n",
      "From rjlowe@iupui.edu Fri Jan 4 14:50:18 2008\n",
      "From cwen@iupui.edu Fri Jan 4 11:37:30 2008\n",
      "From cwen@iupui.edu Fri Jan 4 11:35:08 2008\n",
      "From gsilver@umich.edu Fri Jan 4 11:12:37 2008\n",
      "From gsilver@umich.edu Fri Jan 4 11:11:52 2008\n",
      "From zqian@umich.edu Fri Jan 4 11:11:03 2008\n",
      "From gsilver@umich.edu Fri Jan 4 11:10:22 2008\n",
      "From wagnermr@iupui.edu Fri Jan 4 10:38:42 2008\n",
      "From zqian@umich.edu Fri Jan 4 10:17:43 2008\n",
      "From antranig@caret.cam.ac.uk Fri Jan 4 10:04:14 2008\n",
      "From gopal.ramasammycook@gmail.com Fri Jan 4 09:05:31 2008\n",
      "From david.horwitz@uct.ac.za Fri Jan 4 07:02:32 2008\n",
      "From david.horwitz@uct.ac.za Fri Jan 4 06:08:27 2008\n",
      "From david.horwitz@uct.ac.za Fri Jan 4 04:49:08 2008\n",
      "From david.horwitz@uct.ac.za Fri Jan 4 04:33:44 2008\n",
      "From stephen.marquard@uct.ac.za Fri Jan 4 04:07:34 2008\n",
      "From louis@media.berkeley.edu Thu Jan 3 19:51:21 2008\n",
      "From louis@media.berkeley.edu Thu Jan 3 17:18:23 2008\n",
      "From ray@media.berkeley.edu Thu Jan 3 17:07:00 2008\n",
      "From cwen@iupui.edu Thu Jan 3 16:34:40 2008\n",
      "From cwen@iupui.edu Thu Jan 3 16:29:07 2008\n",
      "From cwen@iupui.edu Thu Jan 3 16:23:48 2008\n"
     ]
    }
   ],
   "source": [
    "import re\n",
    "file=open('mbox-short.txt','r')\n",
    "for line in file:\n",
    "    line=line.rstrip()\n",
    "    if re.search('From',line):\n",
    "        print(line)"
   ]
  },
  {
   "cell_type": "markdown",
   "metadata": {},
   "source": [
    "2.Search for lines that start with From and print them."
   ]
  },
  {
   "cell_type": "code",
   "execution_count": 3,
   "metadata": {},
   "outputs": [
    {
     "name": "stdout",
     "output_type": "stream",
     "text": [
      "From bala123.blss@uct.edu Sun Feb 1 08:15:16 2008\n",
      "From stephen.marquard@uct.ac.za Sat Jan 5 09:14:16 2008\n",
      "From louis@media.berkeley.edu Fri Jan 4 18:10:48 2008\n",
      "From zoean@umich.edu Fri Jan 4 16:10:39 2008\n",
      "From rjlowe@iupui.edu Fri Jan 4 15:46:24 2008\n",
      "From zqian@umich.edu Fri Jan 4 15:03:18 2008\n",
      "From rjlowe@iupui.edu Fri Jan 4 14:50:18 2008\n",
      "From cwen@iupui.edu Fri Jan 4 11:37:30 2008\n",
      "From cwen@iupui.edu Fri Jan 4 11:35:08 2008\n",
      "From gsilver@umich.edu Fri Jan 4 11:12:37 2008\n",
      "From gsilver@umich.edu Fri Jan 4 11:11:52 2008\n",
      "From zqian@umich.edu Fri Jan 4 11:11:03 2008\n",
      "From gsilver@umich.edu Fri Jan 4 11:10:22 2008\n",
      "From wagnermr@iupui.edu Fri Jan 4 10:38:42 2008\n",
      "From zqian@umich.edu Fri Jan 4 10:17:43 2008\n",
      "From antranig@caret.cam.ac.uk Fri Jan 4 10:04:14 2008\n",
      "From gopal.ramasammycook@gmail.com Fri Jan 4 09:05:31 2008\n",
      "From david.horwitz@uct.ac.za Fri Jan 4 07:02:32 2008\n",
      "From david.horwitz@uct.ac.za Fri Jan 4 06:08:27 2008\n",
      "From david.horwitz@uct.ac.za Fri Jan 4 04:49:08 2008\n",
      "From david.horwitz@uct.ac.za Fri Jan 4 04:33:44 2008\n",
      "From stephen.marquard@uct.ac.za Fri Jan 4 04:07:34 2008\n",
      "From louis@media.berkeley.edu Thu Jan 3 19:51:21 2008\n",
      "From louis@media.berkeley.edu Thu Jan 3 17:18:23 2008\n",
      "From ray@media.berkeley.edu Thu Jan 3 17:07:00 2008\n",
      "From cwen@iupui.edu Thu Jan 3 16:34:40 2008\n",
      "From cwen@iupui.edu Thu Jan 3 16:29:07 2008\n",
      "From cwen@iupui.edu Thu Jan 3 16:23:48 2008\n",
      "\n",
      "\n"
     ]
    }
   ],
   "source": [
    "import re\n",
    "file=open(\"mbox-short.txt\")\n",
    "for line in file: \n",
    "    line = line.rstrip()\n",
    "    if line.startswith('From '): \n",
    "        print(line)\n",
    "print('\\n') "
   ]
  },
  {
   "cell_type": "markdown",
   "metadata": {},
   "source": [
    "3.Search for lines that start with T, followed by 2 characters, followed by m."
   ]
  },
  {
   "cell_type": "code",
   "execution_count": 4,
   "metadata": {},
   "outputs": [
    {
     "name": "stdout",
     "output_type": "stream",
     "text": [
      "From bala123.blss@uct.edu Sun Feb 1 08:15:16 2008\n",
      "From stephen.marquard@uct.ac.za Sat Jan 5 09:14:16 2008\n",
      "From louis@media.berkeley.edu Fri Jan 4 18:10:48 2008\n",
      "From zoean@umich.edu Fri Jan 4 16:10:39 2008\n",
      "From rjlowe@iupui.edu Fri Jan 4 15:46:24 2008\n",
      "From zqian@umich.edu Fri Jan 4 15:03:18 2008\n",
      "From rjlowe@iupui.edu Fri Jan 4 14:50:18 2008\n",
      "From cwen@iupui.edu Fri Jan 4 11:37:30 2008\n",
      "From cwen@iupui.edu Fri Jan 4 11:35:08 2008\n",
      "From gsilver@umich.edu Fri Jan 4 11:12:37 2008\n",
      "From gsilver@umich.edu Fri Jan 4 11:11:52 2008\n",
      "From zqian@umich.edu Fri Jan 4 11:11:03 2008\n",
      "From gsilver@umich.edu Fri Jan 4 11:10:22 2008\n",
      "From wagnermr@iupui.edu Fri Jan 4 10:38:42 2008\n",
      "From zqian@umich.edu Fri Jan 4 10:17:43 2008\n",
      "From antranig@caret.cam.ac.uk Fri Jan 4 10:04:14 2008\n",
      "From gopal.ramasammycook@gmail.com Fri Jan 4 09:05:31 2008\n",
      "From david.horwitz@uct.ac.za Fri Jan 4 07:02:32 2008\n",
      "From david.horwitz@uct.ac.za Fri Jan 4 06:08:27 2008\n",
      "From david.horwitz@uct.ac.za Fri Jan 4 04:49:08 2008\n",
      "From david.horwitz@uct.ac.za Fri Jan 4 04:33:44 2008\n",
      "From stephen.marquard@uct.ac.za Fri Jan 4 04:07:34 2008\n",
      "From louis@media.berkeley.edu Thu Jan 3 19:51:21 2008\n",
      "From louis@media.berkeley.edu Thu Jan 3 17:18:23 2008\n",
      "From ray@media.berkeley.edu Thu Jan 3 17:07:00 2008\n",
      "From cwen@iupui.edu Thu Jan 3 16:34:40 2008\n",
      "From cwen@iupui.edu Thu Jan 3 16:29:07 2008\n",
      "From cwen@iupui.edu Thu Jan 3 16:23:48 2008\n"
     ]
    }
   ],
   "source": [
    "import re\n",
    "file=open('mbox-short.txt')\n",
    "for line in file:\n",
    "    line=line.rstrip()\n",
    "    if re.search('F..m',line):\n",
    "        print(line)"
   ]
  },
  {
   "cell_type": "markdown",
   "metadata": {},
   "source": [
    "4.Search for lines that start with From and have an at sign and print them"
   ]
  },
  {
   "cell_type": "code",
   "execution_count": 5,
   "metadata": {},
   "outputs": [
    {
     "name": "stdout",
     "output_type": "stream",
     "text": [
      "From bala123.blss@uct.edu Sun Feb 1 08:15:16 2008\n",
      "From stephen.marquard@uct.ac.za Sat Jan 5 09:14:16 2008\n",
      "From louis@media.berkeley.edu Fri Jan 4 18:10:48 2008\n",
      "From zoean@umich.edu Fri Jan 4 16:10:39 2008\n",
      "From rjlowe@iupui.edu Fri Jan 4 15:46:24 2008\n",
      "From zqian@umich.edu Fri Jan 4 15:03:18 2008\n",
      "From rjlowe@iupui.edu Fri Jan 4 14:50:18 2008\n",
      "From cwen@iupui.edu Fri Jan 4 11:37:30 2008\n",
      "From cwen@iupui.edu Fri Jan 4 11:35:08 2008\n",
      "From gsilver@umich.edu Fri Jan 4 11:12:37 2008\n",
      "From gsilver@umich.edu Fri Jan 4 11:11:52 2008\n",
      "From zqian@umich.edu Fri Jan 4 11:11:03 2008\n",
      "From gsilver@umich.edu Fri Jan 4 11:10:22 2008\n",
      "From wagnermr@iupui.edu Fri Jan 4 10:38:42 2008\n",
      "From zqian@umich.edu Fri Jan 4 10:17:43 2008\n",
      "From antranig@caret.cam.ac.uk Fri Jan 4 10:04:14 2008\n",
      "From gopal.ramasammycook@gmail.com Fri Jan 4 09:05:31 2008\n",
      "From david.horwitz@uct.ac.za Fri Jan 4 07:02:32 2008\n",
      "From david.horwitz@uct.ac.za Fri Jan 4 06:08:27 2008\n",
      "From david.horwitz@uct.ac.za Fri Jan 4 04:49:08 2008\n",
      "From david.horwitz@uct.ac.za Fri Jan 4 04:33:44 2008\n",
      "From stephen.marquard@uct.ac.za Fri Jan 4 04:07:34 2008\n",
      "From louis@media.berkeley.edu Thu Jan 3 19:51:21 2008\n",
      "From louis@media.berkeley.edu Thu Jan 3 17:18:23 2008\n",
      "From ray@media.berkeley.edu Thu Jan 3 17:07:00 2008\n",
      "From cwen@iupui.edu Thu Jan 3 16:34:40 2008\n",
      "From cwen@iupui.edu Thu Jan 3 16:29:07 2008\n",
      "From cwen@iupui.edu Thu Jan 3 16:23:48 2008\n"
     ]
    }
   ],
   "source": [
    "import re\n",
    "f=open('mbox-short.txt')\n",
    "for line in f:\n",
    "    line=line.rstrip()\n",
    "    if re.search('From.+@',line):\n",
    "        print(line)"
   ]
  },
  {
   "cell_type": "markdown",
   "metadata": {},
   "source": [
    "5. Search for lines that have an at sign between characters and print them (Use findall)"
   ]
  },
  {
   "cell_type": "code",
   "execution_count": 6,
   "metadata": {},
   "outputs": [
    {
     "name": "stdout",
     "output_type": "stream",
     "text": [
      "From bala123.blss@uct.edu Sun Feb 1 08:15:16 2008\n",
      "From stephen.marquard@uct.ac.za Sat Jan 5 09:14:16 2008\n",
      "From louis@media.berkeley.edu Fri Jan 4 18:10:48 2008\n",
      "From zoean@umich.edu Fri Jan 4 16:10:39 2008\n",
      "From rjlowe@iupui.edu Fri Jan 4 15:46:24 2008\n",
      "From zqian@umich.edu Fri Jan 4 15:03:18 2008\n",
      "From rjlowe@iupui.edu Fri Jan 4 14:50:18 2008\n",
      "From cwen@iupui.edu Fri Jan 4 11:37:30 2008\n",
      "Xhhgff:0.1234@rfh.edu Thu Sat 12:35:20 2011\n",
      "From cwen@iupui.edu Fri Jan 4 11:35:08 2008\n",
      "From gsilver@umich.edu Fri Jan 4 11:12:37 2008\n",
      "From gsilver@umich.edu Fri Jan 4 11:11:52 2008\n",
      "From zqian@umich.edu Fri Jan 4 11:11:03 2008\n",
      "Xavugf123@hgffhuhj.edu Thu Oct 7 12:34:23 2008\n",
      "From gsilver@umich.edu Fri Jan 4 11:10:22 2008\n",
      "From wagnermr@iupui.edu Fri Jan 4 10:38:42 2008\n",
      "Xavier:@hbgfhjk.edu Sat Aug 6 12:25:45 2010\n",
      "From zqian@umich.edu Fri Jan 4 10:17:43 2008\n",
      "From antranig@caret.cam.ac.uk Fri Jan 4 10:04:14 2008\n",
      "From gopal.ramasammycook@gmail.com Fri Jan 4 09:05:31 2008\n",
      "From david.horwitz@uct.ac.za Fri Jan 4 07:02:32 2008\n",
      "From david.horwitz@uct.ac.za Fri Jan 4 06:08:27 2008\n",
      "From david.horwitz@uct.ac.za Fri Jan 4 04:49:08 2008\n",
      "From david.horwitz@uct.ac.za Fri Jan 4 04:33:44 2008\n",
      "From stephen.marquard@uct.ac.za Fri Jan 4 04:07:34 2008\n",
      "Xkjhuyjhj:0.544@jhygyg.edu Mon Feb 5 09:05:34 2012\n",
      "From louis@media.berkeley.edu Thu Jan 3 19:51:21 2008\n",
      "From louis@media.berkeley.edu Thu Jan 3 17:18:23 2008\n",
      "From ray@media.berkeley.edu Thu Jan 3 17:07:00 2008\n",
      "From cwen@iupui.edu Thu Jan 3 16:34:40 2008\n",
      "From cwen@iupui.edu Thu Jan 3 16:29:07 2008\n",
      "From cwen@iupui.edu Thu Jan 3 16:23:48 2008\n",
      "Xkiuhuhu:65568@jhjrhuh.edu Tue Jun 15:34:27 2006\n",
      "Details:rev=12376764@hbfghbf.edu hfyguydgh j2001\n",
      "Details:rev=766534567@hggffgh.edu\n",
      "Details:rev=7654567@nhgfhkkig.com\n"
     ]
    }
   ],
   "source": [
    "import re\n",
    "f=open('mbox-short.txt')\n",
    "for line in f:\n",
    "    line=line.rstrip()\n",
    "    if re.findall('\\S+@\\S+',line):\n",
    "        print(line)"
   ]
  },
  {
   "cell_type": "markdown",
   "metadata": {},
   "source": [
    "6. Search for lines that have an at sign between characters. The characters must be a letter or number and print them."
   ]
  },
  {
   "cell_type": "code",
   "execution_count": 7,
   "metadata": {},
   "outputs": [
    {
     "name": "stdout",
     "output_type": "stream",
     "text": [
      "['bala123.blss@uct.edu']\n",
      "['stephen.marquard@uct.ac.za']\n",
      "['louis@media.berkeley.edu']\n",
      "['zoean@umich.edu']\n",
      "['rjlowe@iupui.edu']\n",
      "['zqian@umich.edu']\n",
      "['rjlowe@iupui.edu']\n",
      "['cwen@iupui.edu']\n",
      "['Xhhgff:0.1234@rfh.edu']\n",
      "['cwen@iupui.edu']\n",
      "['gsilver@umich.edu']\n",
      "['gsilver@umich.edu']\n",
      "['zqian@umich.edu']\n",
      "['Xavugf123@hgffhuhj.edu']\n",
      "['gsilver@umich.edu']\n",
      "['wagnermr@iupui.edu']\n",
      "['Xavier:@hbgfhjk.edu']\n",
      "['zqian@umich.edu']\n",
      "['antranig@caret.cam.ac.uk']\n",
      "['gopal.ramasammycook@gmail.com']\n",
      "['david.horwitz@uct.ac.za']\n",
      "['david.horwitz@uct.ac.za']\n",
      "['david.horwitz@uct.ac.za']\n",
      "['david.horwitz@uct.ac.za']\n",
      "['stephen.marquard@uct.ac.za']\n",
      "['Xkjhuyjhj:0.544@jhygyg.edu']\n",
      "['louis@media.berkeley.edu']\n",
      "['louis@media.berkeley.edu']\n",
      "['ray@media.berkeley.edu']\n",
      "['cwen@iupui.edu']\n",
      "['cwen@iupui.edu']\n",
      "['cwen@iupui.edu']\n",
      "['Xkiuhuhu:65568@jhjrhuh.edu']\n",
      "['Details:rev=12376764@hbfghbf.edu']\n",
      "['Details:rev=766534567@hggffgh.edu']\n",
      "['Details:rev=7654567@nhgfhkkig.com']\n"
     ]
    }
   ],
   "source": [
    "import re\n",
    "f=open('mbox-short.txt')\n",
    "for line in f:\n",
    "    line=line.rstrip()\n",
    "    x= re.findall('[a-zA-Z0-9]\\S*@\\S*[a-zA-Z]',line)\n",
    "    if len(x)>0:\n",
    "        print(x)"
   ]
  },
  {
   "cell_type": "markdown",
   "metadata": {},
   "source": [
    "7. Search for lines that start with \" followed by any non white space characters and followed by a space and any number. The number can include a decimal."
   ]
  },
  {
   "cell_type": "code",
   "execution_count": 8,
   "metadata": {},
   "outputs": [
    {
     "name": "stdout",
     "output_type": "stream",
     "text": [
      "Xhhgff:0.1234@rfh.edu Thu Sat 12:35:20 2011\n",
      "Xkjhuyjhj:0.544@jhygyg.edu Mon Feb 5 09:05:34 2012\n",
      "Xkiuhuhu:65568@jhjrhuh.edu Tue Jun 15:34:27 2006\n"
     ]
    }
   ],
   "source": [
    "import re\n",
    "file=open('mbox-short.txt')\n",
    "for line in file:\n",
    "    line=line.rstrip()\n",
    "    if re.search('X\\S*:[0-9]+',line):\n",
    "        print(line)"
   ]
  },
  {
   "cell_type": "markdown",
   "metadata": {},
   "source": [
    "8.Search for lines that start with X followed by any non whitespace characters and followed by a space and any number. The number can include a decimal. Then print the number if it is greater than zero."
   ]
  },
  {
   "cell_type": "code",
   "execution_count": 9,
   "metadata": {},
   "outputs": [
    {
     "name": "stdout",
     "output_type": "stream",
     "text": [
      "['Xhhgff:0.1234']\n",
      "['Xkjhuyjhj:0.544']\n",
      "['Xkiuhuhu:65568']\n"
     ]
    }
   ],
   "source": [
    "import re\n",
    "file=open('mbox-short.txt')\n",
    "for line in file:\n",
    "    line=line.rstrip()\n",
    "    x= re.findall('X\\S*:[0-9.>0]+',line)\n",
    "    if len(x)>0:\n",
    "        print(x)"
   ]
  },
  {
   "cell_type": "markdown",
   "metadata": {},
   "source": [
    "9.search for lines that starts with 'Details:rev=',follwed by numbers."
   ]
  },
  {
   "cell_type": "code",
   "execution_count": 10,
   "metadata": {},
   "outputs": [
    {
     "name": "stdout",
     "output_type": "stream",
     "text": [
      "['12376764']\n",
      "['766534567']\n",
      "['7654567']\n"
     ]
    }
   ],
   "source": [
    "import re \n",
    "file=open('mbox-short.txt') \n",
    "for line in file: \n",
    "    line=line.rstrip() \n",
    "    x=re.findall('^Details:,*rev=([0-9]+)', line) \n",
    "    if len(x)>0: \n",
    "        print(x) "
   ]
  },
  {
   "cell_type": "markdown",
   "metadata": {},
   "source": [
    "10.search for lines that starts with from and a character followed by two digit number."
   ]
  },
  {
   "cell_type": "code",
   "execution_count": 11,
   "metadata": {},
   "outputs": [
    {
     "name": "stdout",
     "output_type": "stream",
     "text": [
      "['15']\n",
      "['14']\n",
      "['10']\n",
      "['10']\n",
      "['46']\n",
      "['03']\n",
      "['50']\n",
      "['37']\n",
      "['35']\n",
      "['12']\n",
      "['11']\n",
      "['11']\n",
      "['10']\n",
      "['38']\n",
      "['17']\n",
      "['04']\n",
      "['05']\n",
      "['02']\n",
      "['08']\n",
      "['49']\n",
      "['33']\n",
      "['07']\n",
      "['51']\n",
      "['18']\n",
      "['07']\n",
      "['34']\n",
      "['29']\n",
      "['23']\n"
     ]
    }
   ],
   "source": [
    "import re\n",
    "file=open('mbox-short.txt')\n",
    "for line in file: \n",
    "    line=line.rstrip()\n",
    "    x=re.findall('^From.*([0-9][0-9]):',line)\n",
    "    if len(x)>0: \n",
    "        print(x) "
   ]
  },
  {
   "cell_type": "code",
   "execution_count": 12,
   "metadata": {},
   "outputs": [],
   "source": [
    "#Question:2"
   ]
  },
  {
   "cell_type": "markdown",
   "metadata": {},
   "source": [
    "Baby Names Popularity Analysis"
   ]
  },
  {
   "cell_type": "code",
   "execution_count": 13,
   "metadata": {},
   "outputs": [
    {
     "data": {
      "text/plain": [
       "'1990\\nAaron 34\\nAbbey 482\\nAbbie 685\\nAbby 222\\nAbdul 934\\nAbel 384\\nAbigail 90\\nAbraham 246\\nAbram 920\\nAdam 32\\nAdan 548\\nAddison 645\\nAdolfo 649\\nAdrian 603\\nAdriana 144\\nAdrianna 325\\nAdrianne 783\\nAdrienne 233\\nAgustin 627\\nAhmad 562\\nAhmed 721\\nAidan 889\\nAileen 851\\nAimee 272\\nAisha 568\\nAja 940\\nAkeem 405\\nAlaina 441\\nAlan 125\\nAlana 368\\nAlanna 474\\nAlannah 936\\nAlbert 167\\nAlberto 225\\nAlden 949\\nAldo 792\\nAlec 271\\nAlecia 678\\nAlejandra 211\\nAlejandro 126\\nAlesha 695\\nAlessandra 829\\nAlex 802\\nAlexa 146\\nAlexander 873\\nAlexandra 37\\nAlexandre 950\\nAlexandrea 653\\nAlexandria 95\\nAlexandro 837\\nAlexia 557\\nAlexis 334\\nAlfonso 423\\nAlfred 364\\nAlfredo 272\\nAli 687\\nAlice 347\\nAlicia 53\\nAlina 664\\nAlisa 460\\nAlisha 135\\nAlison 133\\nAlissa 276\\nAllan 382\\nAllen 141\\nAllie 579\\nAllison 48\\nAllyson 236\\nAllyssa 709\\nAlma 386\\nAlonso 805\\nAlonzo 476\\nAlphonso 806\\nAlton 704\\nAlvaro 576\\nAlvin 331\\nAlycia 524\\nAlysa 900\\nAlyse 816\\nAlysha 410\\nAlysia 643\\nAlyson 358\\nAlyssa 27\\nAmanda 4\\nAmber 15\\nAmelia 194\\nAmie 698\\nAmir 608\\nAmos 739\\nAmy 38\\nAna 124\\nAnabel 746\\nAnastasia 382\\nAnderson 881\\nAndre 137\\nAndrea 40\\nAndreas 897\\nAndres 203\\nAndrew 7\\nAndria 870\\nAndy 275\\nAngel 174\\nAngela 52\\nAngelia 501\\nAngelica 119\\nAngelina 261\\nAngelique 631\\nAngelo 335\\nAngie 586\\nAnita 405\\nAnjelica 923\\nAnn 251\\nAnna 45\\nAnne 155\\nAnnemarie 996\\nAnnette 513\\nAnnie 334\\nAnnmarie 973\\nAnthony 15\\nAntione 937\\nAntoine 361\\nAntoinette 354\\nAnton 603\\nAntonia 661\\nAntonio 77\\nAntony 832\\nAntwan 534\\nAntwon 668\\nApril 73\\nAraceli 556\\nAri 862\\nAriana 227\\nArianna 411\\nAric 693\\nAriel 482\\nArielle 186\\nArlene 682\\nArmando 229\\nArnold 559\\nAron 600\\nArron 673\\nArsenio 742\\nArthur 196\\nArturo 259\\nAsa 799\\nAsha 997\\nAshely 632\\nAshlee 154\\nAshleigh 178\\nAshley 656\\nAshli 722\\nAshlie 476\\nAshly 535\\nAshlyn 559\\nAshton 365\\nAsia 299\\nAthena 731\\nAubrey 711\\nAudra 673\\nAudrey 161\\nAugust 846\\nAurora 716\\nAusten 705\\nAustin 55\\nAutumn 177\\nAva 953\\nAvery 797\\nAxel 898\\nAyla 818\\nBaby 861\\nBailey 226\\nBarbara 210\\nBarrett 696\\nBarry 348\\nBeatrice 720\\nBeatriz 472\\nBeau 337\\nBecky 862\\nBelinda 624\\nBen 514\\nBenito 795\\nBenjamin 33\\nBennett 674\\nBennie 872\\nBenny 714\\nBernadette 735\\nBernard 430\\nBernardo 764\\nBeth 392\\nBethany 107\\nBetsy 739\\nBetty 577\\nBeverly 521\\nBianca 84\\nBill 992\\nBillie 830\\nBilly 214\\nBlaine 400\\nBlair 580\\nBlake 937\\nBlanca 397\\nBo 602\\nBobbi 766\\nBobbie 638\\nBobby 185\\nBonnie 380\\nBrad 362\\nBraden 485\\nBradford 579\\nBradley 65\\nBradly 635\\nBrady 315\\nBrandan 746\\nBranden 300\\nBrandi 103\\nBrandie 551\\nBrandon 19\\nBrandy 137\\nBrandyn 807\\nBrant 775\\nBraxton 715\\nBreana 546\\nBreann 775\\nBreanna 113\\nBreanne 498\\nBree 938\\nBrenda 123\\nBrendan 155\\nBrenden 518\\nBrendon 451\\nBrenna 418\\nBrennan 383\\nBrennen 899\\nBrent 127\\nBrenton 469\\nBret 418\\nBrett 84\\nBrian 27\\nBriana 109\\nBrianna 61\\nBrianne 318\\nBrice 529\\nBridget 191\\nBridgett 839\\nBridgette 440\\nBritany 491\\nBritney 136\\nBritni 611\\nBritny 723\\nBrittaney 688\\nBrittani 230\\nBrittanie 553\\nBrittany 996\\nBrittnee 713\\nBrittney 44\\nBrittni 357\\nBrittnie 843\\nBrittny 591\\nBritton 938\\nBrock 257\\nBroderick 890\\nBrody 796\\nBronson 687\\nBrook 868\\nBrooke 70\\nBrooklyn 911\\nBrooks 681\\nBruce 240\\nBruno 993\\nBryan 57\\nBryanna 633\\nBryant 204\\nBryce 169\\nBryon 708\\nBryson 550\\nByron 265\\nCade 885\\nCaitlin 50\\nCaitlyn 183\\nCale 921\\nCaleb 88\\nCallie 297\\nCalvin 173\\nCamden 955\\nCameron 675\\nCamille 243\\nCamron 762\\nCandace 142\\nCandice 147\\nCandy 949\\nCara 235\\nCarey 858\\nCari 959\\nCarina 544\\nCarissa 257\\nCarl 145\\nCarla 263\\nCarley 761\\nCarlie 924\\nCarlo 838\\nCarlos 75\\nCarlton 425\\nCarly 163\\nCarmen 217\\nCarol 350\\nCarolina 302\\nCaroline 116\\nCarolyn 169\\nCarrie 170\\nCarson 456\\nCarter 551\\nCary 817\\nCasandra 407\\nCasey 106\\nCassandra 49\\nCassidy 922\\nCassie 228\\nCassondra 724\\nCatalina 956\\nCatherine 71\\nCathy 914\\nCatrina 908\\nCayla 550\\nCecelia 847\\nCecil 664\\nCecilia 326\\nCecily 574\\nCedric 377\\nCedrick 828\\nCeleste 398\\nCelia 589\\nCelina 704\\nCesar 199\\nChad 85\\nChadwick 594\\nChaim 893\\nChance 316\\nChandler 486\\nChandra 742\\nChanel 419\\nChanelle 925\\nChanning 951\\nChantal 552\\nChantel 362\\nChantelle 721\\nCharity 458\\nCharlene 394\\nCharles 38\\nCharlie 422\\nCharlotte 287\\nCharmaine 819\\nChase 110\\nChasity 373\\nChastity 915\\nChauncey 952\\nChaya 894\\nChaz 448\\nChelsea 24\\nChelsey 128\\nChelsi 762\\nChelsie 273\\nCherie 865\\nCherish 992\\nCheryl 415\\nChester 676\\nCheyenne 330\\nChloe 212\\nChris 449\\nChrista 372\\nChristen 650\\nChristian 319\\nChristiana 831\\nChristie 436\\nChristin 615\\nChristina 25\\nChristine 62\\nChristopher 982\\nChristy 284\\nChrystal 696\\nCiara 294\\nCiera 443\\nCierra 268\\nCindy 185\\nClaire 159\\nClara 522\\nClare 657\\nClarence 373\\nClarissa 322\\nClark 537\\nClaude 833\\nClaudia 199\\nClay 444\\nClayton 153\\nClifford 346\\nClifton 473\\nClint 375\\nClinton 201\\nClyde 638\\nCoby 986\\nCodey 800\\nCodie 930\\nCody 858\\nColby 244\\nCole 248\\nColeman 787\\nColin 122\\nColleen 160\\nCollin 239\\nColt 768\\nColten 619\\nColton 139\\nConner 628\\nConnie 483\\nConnor 221\\nConor 459\\nConrad 621\\nConstance 506\\nCooper 706\\nCora 852\\nCorbin 426\\nCordell 749\\nCorey 671\\nCori 705\\nCorina 646\\nCorinne 406\\nCornelius 487\\nCornell 962\\nCorrine 877\\nCortez 533\\nCortney 931\\nCory 970\\nCoty 447\\nCourtney 356\\nCraig 116\\nCristal 518\\nCristian 417\\nCristina 165\\nCristobal 923\\nCristopher 743\\nCruz 717\\nCrystal 39\\nCullen 788\\nCurtis 120\\nCynthia 88\\nCyrus 829\\nDaisy 193\\nDakota 597\\nDale 285\\nDallas 391\\nDalton 193\\nDamian 322\\nDamien 332\\nDamion 675\\nDamon 321\\nDan 660\\nDana 532\\nDanae 974\\nDandre 747\\nDane 336\\nDangelo 839\\nDanica 639\\nDaniel 5\\nDaniela 381\\nDaniella 500\\nDanielle 18\\nDanika 886\\nDanny 162\\nDante 366\\nDanyelle 946\\nDaphne 764\\nDaquan 709\\nDara 882\\nDarcy 782\\nDaren 886\\nDarian 631\\nDarien 841\\nDarin 530\\nDario 783\\nDarion 859\\nDarius 152\\nDarlene 484\\nDarnell 353\\nDaron 849\\nDarrel 772\\nDarrell 245\\nDarren 200\\nDarrick 818\\nDarrin 509\\nDarrius 569\\nDarryl 255\\nDarwin 910\\nDaryl 440\\nDashawn 731\\nDave 924\\nDavid 6\\nDavin 969\\nDavis 597\\nDavon 479\\nDawn 359\\nDayna 640\\nDayton 876\\nDean 286\\nDeana 884\\nDeandre 276\\nDeangelo 454\\nDeanna 158\\nDebbie 744\\nDeborah 262\\nDebra 453\\nDeidra 840\\nDeidre 971\\nDeirdre 990\\nDeja 747\\nDejuan 790\\nDelia 810\\nDemarco 801\\nDemarcus 442\\nDemario 667\\nDemetria 885\\nDemetrius 290\\nDena 966\\nDenise 152\\nDennis 129\\nDenzel 445\\nDeon 549\\nDeontae 979\\nDeonte 615\\nDereck 778\\nDerek 54\\nDerick 412\\nDerik 732\\nDeron 863\\nDerrek 956\\nDerrell 900\\nDerrick 106\\nDeshawn 481\\nDesirae 481\\nDesiree 125\\nDesmond 287\\nDestinee 845\\nDestiny 202\\nDevan 669\\nDeven 730\\nDevin 316\\nDevon 277\\nDewayne 647\\nDexter 376\\nDiamond 429\\nDiana 99\\nDiane 363\\nDianna 594\\nDiego 308\\nDillon 184\\nDina 755\\nDion 526\\nDionte 970\\nDomingo 823\\nDominic 189\\nDominick 393\\nDominique 207\\nDominque 912\\nDomonique 699\\nDon 553\\nDonald 87\\nDonavan 803\\nDonna 317\\nDonnell 652\\nDonnie 545\\nDonny 980\\nDonovan 299\\nDonta 903\\nDontae 735\\nDonte 424\\nDora 975\\nDorian 520\\nDoris 853\\nDorothy 426\\nDouglas 103\\nDrake 538\\nDrew 160\\nDuane 521\\nDulce 903\\nDuncan 737\\nDustin 50\\nDusty 643\\nDwayne 307\\nDwight 446\\nDylan 83\\nEarl 403\\nEarnest 850\\nEboni 794\\nEbony 187\\nEddie 232\\nEddy 925\\nEden 697\\nEdgar 143\\nEdgardo 779\\nEdith 560\\nEdmund 819\\nEdna 950\\nEduardo 149\\nEdward 68\\nEdwardo 987\\nEdwin 170\\nEfrain 539\\nEfren 773\\nEileen 464\\nElaina 814\\nElaine 409\\nEleanor 598\\nElena 353\\nEli 363\\nElias 360\\nEliezer 997\\nElijah 243\\nElisa 421\\nElisabeth 348\\nElise 265\\nEliseo 963\\nElisha 957\\nElissa 743\\nEliza 558\\nElizabeth 9\\nElla 869\\nEllen 208\\nElliot 369\\nElliott 358\\nEllis 758\\nElmer 698\\nElsa 817\\nElton 964\\nElvin 935\\nElvis 718\\nElyse 526\\nElyssa 983\\nEmanuel 372\\nEmerson 906\\nEmilee 588\\nEmilia 984\\nEmilie 616\\nEmilio 438\\nEmily 12\\nEmma 130\\nEmmanuel 218\\nEmmett 965\\nEnrique 263\\nEric 24\\nErica 36\\nErich 719\\nErick 223\\nEricka 356\\nErik 96\\nErika 74\\nErin 654\\nErnest 283\\nErnesto 310\\nErvin 840\\nEryn 972\\nEsmeralda 425\\nEsteban 414\\nEstevan 720\\nEsther 286\\nEthan 58\\nEugene 312\\nEunice 928\\nEva 344\\nEvan 71\\nEvelyn 220\\nEverett 556\\nEzekiel 625\\nEzequiel 765\\nEzra 763\\nFabian 325\\nFabiola 854\\nFaith 295\\nFallon 918\\nFatima 622\\nFederico 945\\nFelicia 121\\nFelipe 427\\nFelisha 774\\nFelix 368\\nFernando 179\\nFidel 804\\nFiona 941\\nFloyd 641\\nForrest 420\\nFrances 351\\nFrancesca 465\\nFrancesco 834\\nFrancis 284\\nFrancisco 115\\nFrank 109\\nFrankie 494\\nFranklin 298\\nFred 498\\nFreddie 574\\nFreddy 542\\nFrederick 252\\nFredrick 468\\nGabriel 904\\nGabriela 182\\nGabriella 292\\nGabrielle 98\\nGage 359\\nGalen 766\\nGarett 912\\nGarret 506\\nGarrett 99\\nGarrick 636\\nGarrison 958\\nGarry 769\\nGary 114\\nGavin 294\\nGenaro 994\\nGene 618\\nGenesis 590\\nGeneva 848\\nGenevieve 485\\nGeoffrey 249\\nGeorge 79\\nGeorgia 717\\nGeorgina 976\\nGerald 211\\nGeraldine 947\\nGerard 527\\nGerardo 254\\nGerman 616\\nGiancarlo 911\\nGianna 863\\nGilbert 341\\nGilberto 431\\nGillian 825\\nGina 139\\nGino 789\\nGiovanni 329\\nGiselle 706\\nGladys 530\\nGlen 464\\nGlenn 296\\nGloria 241\\nGonzalo 770\\nGordon 471\\nGrace 140\\nGraciela 977\\nGrady 774\\nGraham 397\\nGrant 183\\nGrayson 669\\nGreg 712\\nGregg 914\\nGreggory 864\\nGregorio 808\\nGregory 51\\nGretchen 626\\nGriffin 601\\nGriselda 730\\nGuadalupe 611\\nGuillermo 396\\nGustavo 343\\nGuy 565\\nGwendolyn 679\\nHailey 293\\nHakeem 612\\nHaleigh 960\\nHaley 108\\nHali 994\\nHallie 778\\nHanna 342\\nHannah 30\\nHans 745\\nHarley 590\\nHarold 324\\nHarrison 279\\nHarry 370\\nHarvey 707\\nHassan 733\\nHayden 378\\nHayley 267\\nHeath 461\\nHeather 19\\nHeaven 855\\nHector 156\\nHeidi 200\\nHelen 320\\nHelena 948\\nHenry 138\\nHerbert 531\\nHeriberto 682\\nHerman 637\\nHernan 939\\nHilary 232\\nHillary 192\\nHolden 756\\nHolli 895\\nHollie 609\\nHolly 89\\nHope 266\\nHouston 728\\nHoward 404\\nHugh 736\\nHugo 415\\nHumberto 512\\nHunter 219\\nIan 70\\nIbrahim 877\\nIesha 732\\nIgnacio 599\\nIliana 740\\nImani 929\\nIndia 488\\nInfant 434\\nIngrid 737\\nIra 835\\nIrene 387\\nIris 417\\nIrma 683\\nIrvin 613\\nIrving 685\\nIsaac 132\\nIsabel 339\\nIsabella 892\\nIsaiah 206\\nIsaias 811\\nIsamar 533\\nIsiah 433\\nIsidro 913\\nIsmael 413\\nIsrael 317\\nIssac 606\\nIvan 178\\nIvana 849\\nIvette 859\\nIvy 770\\nJabari 907\\nJace 552\\nJack 166\\nJackie 629\\nJacklyn 541\\nJackson 319\\nJaclyn 143\\nJacob 20\\nJacoby 908\\nJacqueline 67\\nJacquelyn 221\\nJacques 797\\nJada 998\\nJade 830\\nJaime 310\\nJaimee 874\\nJaimie 507\\nJairo 677\\nJake 140\\nJakob 578\\nJaleesa 655\\nJalisa 446\\nJamaal 670\\nJamal 247\\nJamar 421\\nJamarcus 812\\nJamel 519\\nJames 8\\nJameson 661\\nJami 519\\nJamie 227\\nJamil 744\\nJamila 835\\nJamison 662\\nJan 915\\nJana 545\\nJanae 502\\nJanay 719\\nJane 345\\nJanel 965\\nJanell 866\\nJanelle 258\\nJanessa 674\\nJanet 223\\nJanette 634\\nJanice 477\\nJanie 668\\nJanine 659\\nJanna 836\\nJaquan 755\\nJaqueline 791\\nJared 63\\nJarod 634\\nJaron 496\\nJarred 411\\nJarrell 981\\nJarret 882\\nJarrett 380\\nJarrod 318\\nJarvis 435\\nJasmin 231\\nJasmine 28\\nJason 47\\nJasper 614\\nJavier 157\\nJavon 535\\nJay 217\\nJayme 595\\nJayson 499\\nJazmin 304\\nJazmine 301\\nJean 771\\nJeanette 280\\nJeanne 961\\nJeannette 772\\nJedidiah 971\\nJeff 644\\nJefferson 710\\nJeffery 136\\nJeffrey 43\\nJeffry 946\\nJena 562\\nJenifer 623\\nJenna 81\\nJennie 584\\nJennifer 8\\nJenny 214\\nJerad 851\\nJerald 809\\nJered 926\\nJerel 860\\nJeremey 982\\nJeremiah 154\\nJeremy 40\\nJerica 729\\nJermaine 306\\nJerod 780\\nJerome 264\\nJeromy 983\\nJerrell 691\\nJerrica 608\\nJerrod 568\\nJerry 147\\nJesenia 962\\nJesica 930\\nJess 694\\nJesse 648\\nJessenia 909\\nJessi 916\\nJessica 865\\nJessie 254\\nJessika 600\\nJessy 760\\nJesus 90\\nJill 329\\nJillian 122\\nJim 688\\nJimmie 554\\nJimmy 171\\nJoan 763\\nJoana 905\\nJoann 684\\nJoanna 138\\nJoanne 561\\nJoaquin 598\\nJocelyn 219\\nJodi 473\\nJodie 871\\nJody 986\\nJoe 212\\nJoel 95\\nJoelle 792\\nJoey 352\\nJohanna 374\\nJohn 12\\nJohnathan 108\\nJohnathon 251\\nJohnnie 561\\nJohnny 130\\nJolene 795\\nJon 216\\nJonah 653\\nJonas 776\\nJonathan 17\\nJonathon 124\\nJordan 59\\nJorden 866\\nJordon 349\\nJordyn 480\\nJorge 117\\nJory 998\\nJose 41\\nJosef 786\\nJoseph 10\\nJosephine 437\\nJosh 700\\nJoshua 4\\nJosiah 354\\nJosie 619\\nJosue 292\\nJovan 622\\nJoy 375\\nJoyce 479\\nJuan 61\\nJuana 812\\nJuanita 529\\nJudith 454\\nJudy 575\\nJulia 83\\nJulian 123\\nJuliana 427\\nJulianna 658\\nJulianne 444\\nJulie 93\\nJulien 953\\nJulio 195\\nJulissa 776\\nJulius 402\\nJunior 831\\nJusten 726\\nJustin 9\\nJustina 536\\nJustine 972\\nKacey 651\\nKaci 621\\nKacie 517\\nKacy 957\\nKadeem 540\\nKaela 807\\nKai 928\\nKaila 435\\nKailey 602\\nKaitlin 101\\nKaitlyn 78\\nKaitlynn 654\\nKala 543\\nKaleb 305\\nKaleigh 531\\nKaley 601\\nKali 445\\nKalie 931\\nKallie 942\\nKalvin 940\\nKalyn 850\\nKameron 462\\nKandace 751\\nKandice 752\\nKanesha 951\\nKanisha 714\\nKara 110\\nKareem 575\\nKaren 120\\nKari 256\\nKarina 189\\nKarissa 313\\nKarl 295\\nKarla 279\\nKarli 926\\nKarly 889\\nKasandra 670\\nKasey 457\\nKassandra 312\\nKassie 748\\nKate 270\\nKatelin 567\\nKatelyn 75\\nKatelynn 378\\nKatharine 401\\nKatherine 26\\nKatheryn 906\\nKathleen 92\\nKathrine 781\\nKathryn 57\\nKathy 503\\nKati 878\\nKatie 55\\nKatlin 627\\nKatlyn 343\\nKatrina 127\\nKaty 514\\nKaycee 846\\nKayla 14\\nKaylee 234\\nKayleigh 414\\nKaylie 806\\nKaylin 718\\nKaylyn 677\\nKeaton 592\\nKeegan 500\\nKeely 767\\nKeenan 392\\nKeenen 988\\nKegan 916\\nKeisha 396\\nKeith 80\\nKelby 932\\nKellen 658\\nKelley 308\\nKelli 181\\nKellie 264\\nKelly 351\\nKelsea 779\\nKelsey 729\\nKelsi 495\\nKelsie 321\\nKelvin 288\\nKen 857\\nKendal 887\\nKendall 404\\nKendell 909\\nKendra 117\\nKendrick 339\\nKenisha 879\\nKenneth 52\\nKenny 432\\nKent 488\\nKenton 867\\nKenya 614\\nKeon 820\\nKeri 388\\nKerri 438\\nKerry 483\\nKeshia 593\\nKeven 984\\nKevin 23\\nKevon 878\\nKhalil 852\\nKhiry 648\\nKia 860\\nKiana 758\\nKiara 171\\nKiefer 854\\nKiera 566\\nKierra 433\\nKiersten 620\\nKiley 753\\nKim 788\\nKimber 985\\nKimberlee 710\\nKimberley 666\\nKimberly 31\\nKira 527\\nKirby 784\\nKirk 347\\nKirsten 157\\nKirstie 457\\nKirstin 564\\nKody 304\\nKolby 821\\nKorey 436\\nKori 793\\nKortney 676\\nKory 386\\nKourtney 402\\nKraig 973\\nKrista 145\\nKristal 692\\nKristan 958\\nKristen 42\\nKristi 269\\nKristian 628\\nKristie 376\\nKristin 65\\nKristina 77\\nKristine 238\\nKristofer 543\\nKristoffer 989\\nKristopher 165\\nKristy 248\\nKristyn 520\\nKrysta 707\\nKrystal 104\\nKrysten 841\\nKrystin 932\\nKrystina 754\\nKrystle 461\\nKurt 274\\nKurtis 410\\nKwame 582\\nKyla 428\\nKyle 823\\nKylee 422\\nKyler 623\\nKylie 179\\nKyra 570\\nLacey 148\\nLaci 784\\nLacie 642\\nLacy 355\\nLadarius 750\\nLakeisha 587\\nLaken 954\\nLakeshia 896\\nLamar 350\\nLamont 571\\nLana 808\\nLance 181\\nLandon 326\\nLane 558\\nLaquan 824\\nLaquita 826\\nLara 538\\nLarissa 403\\nLaron 868\\nLarry 144\\nLashonda 893\\nLatasha 360\\nLatifah 702\\nLatisha 493\\nLatonya 798\\nLatoya 253\\nLatrice 749\\nLaura 29\\nLaurel 532\\nLauren 10\\nLaurence 936\\nLaurie 649\\nLauryn 700\\nLawrence 174\\nLazaro 990\\nLea 516\\nLeah 82\\nLeandra 803\\nLeann 693\\nLeanna 389\\nLeanne 534\\nLee 955\\nLeeann 813\\nLeigh 469\\nLeila 999\\nLeland 609\\nLena 528\\nLeo 477\\nLeon 390\\nLeonard 291\\nLeonardo 416\\nLeonel 617\\nLeroy 443\\nLesley 539\\nLeslie 585\\nLester 632\\nLeticia 340\\nLevi 182\\nLewis 399\\nLia 952\\nLiam 605\\nLiana 799\\nLiliana 369\\nLillian 366\\nLily 585\\nLincoln 855\\nLinda 175\\nLindsay 69\\nLindsey 51\\nLinsey 993\\nLionel 665\\nLisa 64\\nLisette 944\\nLissette 897\\nLiza 890\\nLizbeth 629\\nLizeth 967\\nLizette 625\\nLloyd 490\\nLogan 610\\nLonnie 508\\nLora 768\\nLoren 630\\nLorena 383\\nLorenzo 309\\nLoretta 934\\nLori 323\\nLorraine 656\\nLouie 844\\nLouis 168\\nLourdes 910\\nLucas 112\\nLucero 867\\nLucia 582\\nLucy 451\\nLuis 66\\nLuisa 968\\nLukas 528\\nLuke 118\\nLuther 767\\nLuz 604\\nLydia 206\\nLyle 633\\nLyndsay 715\\nLyndsey 384\\nLynette 820\\nLynn 580\\nLynsey 987\\nMackenzie 524\\nMacy 641\\nMadeleine 578\\nMadeline 197\\nMadelyn 733\\nMadison 847\\nMaegan 576\\nMagdalena 919\\nMagen 875\\nMaggie 288\\nMai 796\\nMaira 800\\nMakayla 804\\nMalachi 959\\nMalcolm 241\\nMalcom 873\\nMale 701\\nMalik 557\\nMallory 162\\nMandi 876\\nMandy 467\\nManuel 134\\nMara 540\\nMaranda 596\\nMarc 163\\nMarcel 560\\nMarcella 759\\nMarcelo 974\\nMarcia 901\\nMarco 226\\nMarcos 273\\nMarcus 72\\nMargaret 102\\nMargarita 459\\nMari 933\\nMaria 47\\nMariah 259\\nMarian 935\\nMariana 508\\nMarianne 980\\nMaribel 393\\nMaricela 583\\nMarie 213\\nMariel 963\\nMariela 821\\nMarilyn 432\\nMarina 324\\nMario 119\\nMarion 883\\nMarisa 255\\nMarisela 617\\nMarisol 400\\nMarissa 87\\nMaritza 486\\nMarjorie 887\\nMark 46\\nMarkus 501\\nMarla 805\\nMarlena 969\\nMarlene 390\\nMarlin 966\\nMarlon 458\\nMarques 813\\nMarquez 874\\nMarquis 258\\nMarquise 555\\nMarquita 789\\nMarsha 964\\nMarshall 280\\nMartell 975\\nMartez 785\\nMartha 229\\nMartika 757\\nMartin 113\\nMartina 832\\nMarty 781\\nMarvin 237\\nMary 35\\nMaryann 902\\nMason 208\\nMathew 148\\nMatthew 3\\nMaura 644\\nMaureen 497\\nMaurice 205\\nMauricio 547\\nMax 172\\nMaximilian 684\\nMaxwell 188\\nMaya 399\\nMayra 195\\nMckenzie 490\\nMeagan 126\\nMeaghan 367\\nMegan 11\\nMeghan 91\\nMelanie 86\\nMelina 833\\nMelinda 207\\nMelisa 777\\nMelissa 20\\nMelody 314\\nMelvin 278\\nMercedes 176\\nMeredith 190\\nMia 341\\nMicaela 811\\nMicah 907\\nMichael 750\\nMichaela 311\\nMicheal 175\\nMichel 894\\nMichele 244\\nMichelle 22\\nMickey 836\\nMiguel 101\\nMikaela 773\\nMikayla 711\\nMike 507\\nMikel 757\\nMikhail 967\\nMiles 269\\nMilton 566\\nMindy 423\\nMiranda 112\\nMiriam 285\\nMisael 999\\nMisty 278\\nMitchel 572\\nMitchell 93\\nMohamed 740\\nMohammad 604\\nMohammed 678\\nMoises 467\\nMollie 462\\nMolly 80\\nMonica 76\\nMonika 785\\nMonique 132\\nMonte 901\\nMorgan 277\\nMoriah 801\\nMorris 761\\nMoses 588\\nMoshe 702\\nMychal 825\\nMykel 869\\nMyles 428\\nMyra 701\\nMyron 679\\nNadia 395\\nNadine 694\\nNajee 941\\nNancy 131\\nNaomi 300\\nNatalia 478\\nNatalie 63\\nNataly 913\\nNatasha 105\\nNathalie 662\\nNathan 44\\nNathanael 523\\nNathanial 650\\nNathaniel 86\\nNeal 460\\nNeil 261\\nNelson 281\\nNestor 626\\nNia 864\\nNicholas 14\\nNichole 151\\nNick 671\\nNickolas 268\\nNico 620\\nNicolas 187\\nNicole 13\\nNicolette 511\\nNigel 573\\nNikita 660\\nNikki 282\\nNikko 904\\nNiko 777\\nNikolas 472\\nNikole 837\\nNina 260\\nNoah 228\\nNoe 541\\nNoel 790\\nNoelle 463\\nNoemi 592\\nNolan 302\\nNora 431\\nNorma 494\\nNorman 470\\nOctavia 618\\nOctavio 695\\nOlga 786\\nOliver 371\\nOlivia 72\\nOmar 159\\nOrlando 314\\nOscar 135\\nOsvaldo 639\\nOtis 697\\nOwen 453\\nPablo 357\\nPaige 79\\nPamela 237\\nPaola 665\\nParis 659\\nParker 342\\nPatrice 471\\nPatricia 97\\nPatrick 36\\nPaul 49\\nPaula 296\\nPaulina 571\\nPauline 756\\nPayton 895\\nPedro 197\\nPeggy 1000\\nPerla 636\\nPerry 455\\nPete 782\\nPeter 74\\nPeyton 947\\nPhilip 111\\nPhillip 81\\nPhoebe 872\\nPhylicia 787\\nPierce 891\\nPierre 495\\nPorsha 736\\nPortia 844\\nPrecious 452\\nPreston 198\\nPrince 917\\nPrincess 760\\nPriscilla 167\\nQuentin 338\\nQuincy 502\\nQuinn 517\\nQuinten 861\\nQuintin 504\\nQuinton 297\\nRachael 111\\nRacheal 637\\nRachel 16\\nRachelle 332\\nRafael 202\\nRaheem 771\\nRakeem 942\\nRalph 385\\nRamiro 478\\nRamon 250\\nRandal 722\\nRandall 192\\nRandi 338\\nRandolph 672\\nRandy 131\\nRaphael 465\\nRaquel 239\\nRashaad 918\\nRashad 355\\nRashawn 724\\nRasheed 933\\nRaul 210\\nRaven 166\\nRay 328\\nRaymond 92\\nRaymundo 826\\nRebeca 725\\nRebecca 21\\nRebekah 149\\nReece 791\\nReed 655\\nReese 896\\nReggie 943\\nRegina 281\\nReginald 230\\nReid 544\\nRemington 927\\nRenae 988\\nRene 303\\nRenee 184\\nReuben 583\\nRex 663\\nReyna 726\\nReynaldo 536\\nRhett 842\\nRhiannon 672\\nRhonda 605\\nRicardo 121\\nRichard 35\\nRichelle 898\\nRick 510\\nRickey 503\\nRicky 176\\nRico 584\\nRigoberto 640\\nRikki 824\\nRiley 827\\nRita 547\\nRobbie 751\\nRobert 13\\nRoberta 939\\nRoberto 150\\nRobin 595\\nRobyn 309\\nRocco 870\\nRochelle 377\\nRocio 548\\nRocky 657\\nRoderick 387\\nRodney 180\\nRodolfo 401\\nRodrick 827\\nRodrigo 511\\nRogelio 439\\nRoger 209\\nRoland 505\\nRolando 497\\nRoman 374\\nRon 738\\nRonald 97\\nRonnie 262\\nRonny 976\\nRoosevelt 856\\nRory 513\\nRosa 242\\nRose 307\\nRosemary 509\\nRoss 190\\nRoxana 686\\nRoxanna 899\\nRoxanne 336\\nRoy 236\\nRoyce 703\\nRuben 177\\nRubi 734\\nRuby 291\\nRudolph 848\\nRudy 388\\nRussell 142\\nRusty 607\\nRuth 306\\nRyan 525\\nRyne 624\\nSabrina 118\\nSade 569\\nSadie 455\\nSally 449\\nSalvador 293\\nSalvatore 567\\nSam 395\\nSamantha 5\\nSamatha 880\\nSamir 948\\nSammy 586\\nSamson 919\\nSamuel 45\\nSandra 134\\nSandy 379\\nSantiago 563\\nSantos 748\\nSara 34\\nSarah 6\\nSarai 881\\nSasha 198\\nSaul 409\\nSavanna 599\\nSavannah 204\\nScott 53\\nScotty 727\\nSean 37\\nSebastian 320\\nSelena 780\\nSelina 765\\nSerena 505\\nSergio 161\\nSeth 102\\nShaina 408\\nShakira 888\\nShameka 989\\nShamika 978\\nShana 349\\nShanae 690\\nShane 73\\nShanell 920\\nShanice 727\\nShanika 728\\nShaniqua 327\\nShanna 430\\nShannon 429\\nShante 612\\nShantel 499\\nShantell 991\\nShari 943\\nSharon 274\\nShaun 224\\nShauna 364\\nShawn 69\\nShawna 249\\nShay 960\\nShayla 337\\nShayna 412\\nShayne 484\\nShea 856\\nSheena 470\\nSheila 413\\nShelbi 883\\nShelby 525\\nSheldon 441\\nShelley 703\\nShelly 565\\nShelton 814\\nSherman 793\\nSherri 921\\nSherry 581\\nShirley 510\\nSidney 922\\nSierra 141\\nSilas 968\\nSilvia 613\\nSimon 379\\nSimone 346\\nSkye 689\\nSkylar 563\\nSkyler 738\\nSofia 645\\nSolomon 689\\nSonia 315\\nSonja 828\\nSonny 651\\nSonya 512\\nSophia 250\\nSophie 606\\nSpencer 105\\nSpenser 686\\nStacey 875\\nStaci 439\\nStacie 420\\nStacy 822\\nStanley 313\\nStefan 367\\nStefani 741\\nStefanie 289\\nStephan 406\\nStephanie 7\\nStephany 442\\nStephen 39\\nStephon 591\\nSterling 463\\nSteve 267\\nSteven 25\\nStevie 802\\nStewart 593\\nStuart 344\\nSummer 271\\nSusan 172\\nSusana 555\\nSusanna 857\\nSuzanne 370\\nSydney 150\\nSylvester 713\\nSylvia 333\\nSymone 822\\nTabatha 416\\nTabitha 164\\nTalia 607\\nTalon 929\\nTamara 209\\nTameka 842\\nTamika 572\\nTammy 450\\nTanesha 809\\nTania 489\\nTanisha 385\\nTanner 220\\nTanya 252\\nTara 85\\nTarah 995\\nTaryn 335\\nTasha 246\\nTate 1000\\nTatiana 283\\nTavon 985\\nTayler 708\\nTaylor 64\\nTed 642\\nTeddy 794\\nTera 891\\nTerence 452\\nTeresa 180\\nTeri 838\\nTerra 630\\nTerrance 235\\nTerrell 282\\nTerrence 256\\nTerri 554\\nTerry 164\\nTess 573\\nTessa 290\\nTevin 381\\nThaddeus 581\\nTheodore 233\\nTheresa 196\\nThomas 26\\nTia 303\\nTiana 424\\nTianna 712\\nTiara 245\\nTiera 769\\nTierra 352\\nTiffani 456\\nTiffanie 691\\nTiffany 23\\nTimmy 871\\nTimothy 30\\nTina 240\\nTitus 879\\nTobias 725\\nToby 577\\nTodd 158\\nTom 692\\nTomas 491\\nTommie 892\\nTommy 270\\nToni 275\\nTony 146\\nTonya 365\\nTorey 991\\nTori 466\\nTorrey 977\\nTory 666\\nTosha 979\\nTrace 978\\nTracey 492\\nTraci 475\\nTracie 927\\nTracy 516\\nTravis 42\\nTravon 853\\nTremaine 954\\nTrent 253\\nTrenton 266\\nTrever 752\\nTrevon 843\\nTrevor 76\\nTrey 345\\nTricia 496\\nTrina 917\\nTrisha 305\\nTrista 745\\nTristan 330\\nTroy 128\\nTucker 475\\nTy 437\\nTyesha 834\\nTyler 537\\nTylor 546\\nTyree 564\\nTyrel 961\\nTyrell 450\\nTyron 716\\nTyrone 260\\nTyson 407\\nUlises 798\\nUlysses 753\\nUnknown 741\\nUriel 690\\nValencia 815\\nValentin 902\\nValeria 681\\nValerie 129\\nVan 880\\nVance 646\\nVanessa 56\\nVaughn 754\\nVernon 489\\nVeronica 96\\nVicente 587\\nVicky 945\\nVictor 82\\nVictoria 33\\nVince 888\\nVincent 78\\nVirgil 810\\nVirginia 215\\nVivian 448\\nViviana 667\\nWade 323\\nWalker 845\\nWallace 905\\nWalter 191\\nWanda 981\\nWarren 340\\nWaylon 995\\nWayne 242\\nWendell 680\\nWendy 205\\nWesley 107\\nWestley 734\\nWeston 398\\nWhitley 549\\nWhitney 60\\nWilbert 944\\nWilfredo 759\\nWill 589\\nWilliam 16\\nWillie 222\\nWillis 815\\nWilson 480\\nWinston 596\\nWyatt 408\\nXavier 186\\nYadira 635\\nYasmin 680\\nYesenia 156\\nYessenia 663\\nYolanda 391\\nYvette 361\\nYvonne 371\\nZachariah 327\\nZachary 22\\nZachery 234\\nZackary 333\\nZackery 419\\nZakary 884\\nZane 434\\nZechariah 816\\nZoe 504'"
      ]
     },
     "execution_count": 13,
     "metadata": {},
     "output_type": "execute_result"
    }
   ],
   "source": [
    "f=open('baby1990.html', 'r')\n",
    "f.read()"
   ]
  },
  {
   "cell_type": "code",
   "execution_count": 16,
   "metadata": {},
   "outputs": [],
   "source": [
    "import re \n",
    "import sys \n",
    "def extract_names(filename): \n",
    "    names=[] \n",
    "    f=open(filename, 'r') \n",
    "    txt=f.read()\n",
    "    year_match=re.search(r'(\\d\\d\\d\\d)', txt) \n",
    "    if not year_match: \n",
    "        sys.stderr.write('Couldn\\'\\'t find the year!\\n\\n') \n",
    "        sys.exit(1) \n",
    "    year=year_match.group(1) \n",
    "    names.append(year) \n",
    "    tuples=re.findall(r'<td>(\\d+)</td><td>(\\w+)</td>\\<td>(\\w+)</td>', txt) \n",
    "    names_to_rank={} \n",
    "    for rank_tuple in tuples: \n",
    "        (rank, boyname, girlname)=rank_tuple\n",
    "        if boyname not in names_to_rank: \n",
    "            names_to_rank[boyname]=rank \n",
    "        if girlname not in names_to_rank: \n",
    "            names_to_rank[girlname]=rank \n",
    "    sorted_name=sorted(names_to_rank.keys())\n",
    "    for name in sorted_name: \n",
    "        names.append(name+\" \"+names_to_rank[name])\n",
    "    return names\n",
    "#main: \n",
    "\n",
    "\n"
   ]
  },
  {
   "cell_type": "code",
   "execution_count": 18,
   "metadata": {},
   "outputs": [
    {
     "data": {
      "text/plain": [
       "['1990']"
      ]
     },
     "execution_count": 18,
     "metadata": {},
     "output_type": "execute_result"
    }
   ],
   "source": [
    "extract_names(\"baby1990.html\") "
   ]
  },
  {
   "cell_type": "code",
   "execution_count": null,
   "metadata": {},
   "outputs": [],
   "source": []
  }
 ],
 "metadata": {
  "kernelspec": {
   "display_name": "Python 3 (ipykernel)",
   "language": "python",
   "name": "python3"
  },
  "language_info": {
   "codemirror_mode": {
    "name": "ipython",
    "version": 3
   },
   "file_extension": ".py",
   "mimetype": "text/x-python",
   "name": "python",
   "nbconvert_exporter": "python",
   "pygments_lexer": "ipython3",
   "version": "3.10.9"
  }
 },
 "nbformat": 4,
 "nbformat_minor": 2
}
