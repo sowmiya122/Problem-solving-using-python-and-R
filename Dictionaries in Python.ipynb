{
 "cells": [
  {
   "cell_type": "markdown",
   "id": "ff95ac95",
   "metadata": {},
   "source": [
    "225229138-B.SOWMIYA"
   ]
  },
  {
   "cell_type": "markdown",
   "id": "55ef9cab",
   "metadata": {},
   "source": [
    "                                       Lab7. Dictionaries in Python"
   ]
  },
  {
   "cell_type": "code",
   "execution_count": 95,
   "id": "966bd7a6",
   "metadata": {},
   "outputs": [],
   "source": [
    "#Ques-1 "
   ]
  },
  {
   "cell_type": "markdown",
   "id": "926b1d87",
   "metadata": {},
   "source": [
    "Question1. Write a program for Fruit Inventory Management."
   ]
  },
  {
   "cell_type": "markdown",
   "id": "abd17aff",
   "metadata": {},
   "source": [
    "1. Create a dictionary fruits with fruit name as key and quantity available as values. There\n",
    "are 20 apples, 50 bananas, 100 oranges. Then, print outputs for the following queries.\n",
    "2. Show the entire dictionary fruits (Print output as apples -> 20, bananas -> 50, etc)"
   ]
  },
  {
   "cell_type": "code",
   "execution_count": 2,
   "id": "c5892fce",
   "metadata": {},
   "outputs": [
    {
     "name": "stdout",
     "output_type": "stream",
     "text": [
      "{'apples': 20, 'bananas': 50, 'oranges': 100}\n"
     ]
    }
   ],
   "source": [
    "fruits={\"apples\":20,\"bananas\":50,\"oranges\":100}\n",
    "print (fruits)"
   ]
  },
  {
   "cell_type": "markdown",
   "id": "e3bcf0af",
   "metadata": {},
   "source": [
    "3. How many bananas are there?"
   ]
  },
  {
   "cell_type": "code",
   "execution_count": 3,
   "id": "f46cc222",
   "metadata": {},
   "outputs": [
    {
     "name": "stdout",
     "output_type": "stream",
     "text": [
      "50\n"
     ]
    }
   ],
   "source": [
    "print(fruits.get('bananas'))"
   ]
  },
  {
   "cell_type": "markdown",
   "id": "caaf2287",
   "metadata": {},
   "source": [
    "4. How many items in the dictionary?"
   ]
  },
  {
   "cell_type": "code",
   "execution_count": 4,
   "id": "2f77fa49",
   "metadata": {},
   "outputs": [
    {
     "data": {
      "text/plain": [
       "3"
      ]
     },
     "execution_count": 4,
     "metadata": {},
     "output_type": "execute_result"
    }
   ],
   "source": [
    "len(fruits)"
   ]
  },
  {
   "cell_type": "markdown",
   "id": "2044cde5",
   "metadata": {},
   "source": [
    "5. Does graphs available in the dictionary?"
   ]
  },
  {
   "cell_type": "code",
   "execution_count": 5,
   "id": "c5f4b6a1",
   "metadata": {},
   "outputs": [
    {
     "name": "stdout",
     "output_type": "stream",
     "text": [
      "Graphs is NOT Available\n"
     ]
    }
   ],
   "source": [
    "if 'graphs' in fruits:\n",
    "    print(\"Graphs is Available\")\n",
    "else :\n",
    "    print(\"Graphs is NOT Available\")"
   ]
  },
  {
   "cell_type": "markdown",
   "id": "aa70533c",
   "metadata": {},
   "source": [
    "6. Does pears exists in the dictionary?. If so, return its quantity, otherwise, add 10 pears to\n",
    "dictionary."
   ]
  },
  {
   "cell_type": "code",
   "execution_count": 27,
   "id": "90e28744",
   "metadata": {},
   "outputs": [
    {
     "name": "stdout",
     "output_type": "stream",
     "text": [
      "dict_items([('apples', 60), ('bananas', 150), ('oranges', 100)])\n"
     ]
    }
   ],
   "source": [
    "print(fruits.items())"
   ]
  },
  {
   "cell_type": "code",
   "execution_count": 28,
   "id": "afbb94e0",
   "metadata": {},
   "outputs": [
    {
     "name": "stdout",
     "output_type": "stream",
     "text": [
      "pears are not available\n"
     ]
    }
   ],
   "source": [
    "if 'pears' in fruits:\n",
    "    print('pears are available')\n",
    "else:\n",
    "    print('pears are not available')"
   ]
  },
  {
   "cell_type": "code",
   "execution_count": 8,
   "id": "2958039f",
   "metadata": {},
   "outputs": [],
   "source": [
    "fruits.update({\"pears\":10})"
   ]
  },
  {
   "cell_type": "code",
   "execution_count": 9,
   "id": "9842398a",
   "metadata": {},
   "outputs": [
    {
     "name": "stdout",
     "output_type": "stream",
     "text": [
      "{'apples': 20, 'bananas': 50, 'oranges': 100, 'pears': 10}\n"
     ]
    }
   ],
   "source": [
    "print(fruits)"
   ]
  },
  {
   "cell_type": "markdown",
   "id": "35863ae4",
   "metadata": {},
   "source": [
    "7. Show all fruit names in ascending order (Iterate using for loop)"
   ]
  },
  {
   "cell_type": "code",
   "execution_count": null,
   "id": "12a30e3a",
   "metadata": {},
   "outputs": [],
   "source": []
  },
  {
   "cell_type": "code",
   "execution_count": 4,
   "id": "bd92c716",
   "metadata": {},
   "outputs": [
    {
     "name": "stdout",
     "output_type": "stream",
     "text": [
      "apples\n",
      "bananas\n",
      "oranges\n",
      "pears\n"
     ]
    }
   ],
   "source": [
    "fruits={'apples':20,'bananas':50,'oranges':100,'pears':10}\n",
    "for i in sorted(fruits.keys()):\n",
    "    print(i)"
   ]
  },
  {
   "cell_type": "markdown",
   "id": "d9234e06",
   "metadata": {},
   "source": [
    "8. Show all fruits in descending order of quantities"
   ]
  },
  {
   "cell_type": "code",
   "execution_count": 2,
   "id": "cb3e35a0",
   "metadata": {},
   "outputs": [
    {
     "name": "stdout",
     "output_type": "stream",
     "text": [
      "10\n",
      "100\n",
      "50\n",
      "20\n"
     ]
    }
   ],
   "source": [
    "fruits={'apples':20,'bananas':50,'oranges':100,'pears':10}\n",
    "for i in reversed(fruits.values()):\n",
    "    print(i)"
   ]
  },
  {
   "cell_type": "markdown",
   "id": "415899ad",
   "metadata": {},
   "source": [
    "9. Remove pears from the dictionary."
   ]
  },
  {
   "cell_type": "code",
   "execution_count": 15,
   "id": "6716622e",
   "metadata": {},
   "outputs": [
    {
     "name": "stdout",
     "output_type": "stream",
     "text": [
      "{'apples': 20, 'bananas': 50, 'oranges': 100}\n"
     ]
    }
   ],
   "source": [
    "fruits={'apples':20,'bananas':50,'oranges':100,'pears':10}\n",
    "fruits.pop(\"pears\")\n",
    "print(fruits)"
   ]
  },
  {
   "cell_type": "markdown",
   "id": "35bf0e58",
   "metadata": {},
   "source": [
    "10. Develop a function show() that displays fruit name and quantity (Use .format() for pretty\n",
    "printing)"
   ]
  },
  {
   "cell_type": "code",
   "execution_count": 7,
   "id": "0e68e06f",
   "metadata": {},
   "outputs": [
    {
     "name": "stdout",
     "output_type": "stream",
     "text": [
      "{'apples': 20, 'bananas': 50, 'oranges': 100, 'pears': 10}\n"
     ]
    }
   ],
   "source": [
    "def show():      \n",
    "    print(f'{fruits}')\n",
    "          \n",
    "#main:\n",
    "show()"
   ]
  },
  {
   "cell_type": "markdown",
   "id": "d23e4d61",
   "metadata": {},
   "source": [
    "11. Develop a function add_fruit(name, quantity) that receives fruit name and quantity as\n",
    "input and increases the quantity of the fruit. Then, display the current inventory by calling\n",
    "show()."
   ]
  },
  {
   "cell_type": "code",
   "execution_count": 98,
   "id": "d84ee13e",
   "metadata": {},
   "outputs": [],
   "source": [
    "def add_fruits(fruits,name,quantity):\n",
    "    fruits[name]=fruits.get(name,0)+quantity"
   ]
  },
  {
   "cell_type": "markdown",
   "id": "1923e236",
   "metadata": {},
   "source": [
    "12. Now, add 40 apples to inventory by calling add_fruit(name, quantity)"
   ]
  },
  {
   "cell_type": "code",
   "execution_count": 20,
   "id": "1d1c6c45",
   "metadata": {},
   "outputs": [
    {
     "name": "stdout",
     "output_type": "stream",
     "text": [
      "{'apples': 60, 'bananas': 50, 'oranges': 100}\n"
     ]
    }
   ],
   "source": [
    "add_fruits(fruits,'apples',40)\n",
    "print(fruits)"
   ]
  },
  {
   "cell_type": "markdown",
   "id": "7c38ff3c",
   "metadata": {},
   "source": [
    "13. Now, add 100 bananas to inventory, by calling add_fruit(name, quantity)"
   ]
  },
  {
   "cell_type": "code",
   "execution_count": 21,
   "id": "74f508ae",
   "metadata": {},
   "outputs": [
    {
     "name": "stdout",
     "output_type": "stream",
     "text": [
      "{'apples': 60, 'bananas': 150, 'oranges': 100}\n"
     ]
    }
   ],
   "source": [
    "add_fruits(fruits,'bananas',100)\n",
    "print(fruits)"
   ]
  },
  {
   "cell_type": "markdown",
   "id": "975f2829",
   "metadata": {},
   "source": [
    "14. Now, show the current inventory, by calling show()"
   ]
  },
  {
   "cell_type": "code",
   "execution_count": 22,
   "id": "fd343b3d",
   "metadata": {},
   "outputs": [
    {
     "name": "stdout",
     "output_type": "stream",
     "text": [
      "{'apples': 60, 'bananas': 150, 'oranges': 100}\n"
     ]
    }
   ],
   "source": [
    "show()"
   ]
  },
  {
   "cell_type": "markdown",
   "id": "00b88740",
   "metadata": {},
   "source": [
    "15. Write the inventory fruits onto a file. (Use Pickle for file writing and reading)"
   ]
  },
  {
   "cell_type": "code",
   "execution_count": 10,
   "id": "ba331f7c",
   "metadata": {},
   "outputs": [],
   "source": [
    "import pickle\n",
    "fruits={'apples':60,'bananas':150,'oranges':100}\n",
    "file=open(\"mypicklefile\",\"wb\")\n",
    "pickle.dump(fruits,file)\n",
    "file.close()"
   ]
  },
  {
   "cell_type": "markdown",
   "id": "2370b903",
   "metadata": {},
   "source": [
    "16. Now, open Pickle file and display the inventory."
   ]
  },
  {
   "cell_type": "code",
   "execution_count": 11,
   "id": "cad9fb71",
   "metadata": {},
   "outputs": [
    {
     "name": "stdout",
     "output_type": "stream",
     "text": [
      "{'apples': 60, 'bananas': 150, 'oranges': 100}\n"
     ]
    }
   ],
   "source": [
    "import pickle\n",
    "file=open(\"mypicklefile\",\"rb\")\n",
    "fruits=pickle.load(file)\n",
    "print(fruits)"
   ]
  },
  {
   "cell_type": "markdown",
   "id": "9a260495",
   "metadata": {},
   "source": [
    "Question2. Write a program for Telephone Directory Management"
   ]
  },
  {
   "cell_type": "code",
   "execution_count": 50,
   "id": "7f5a22f4",
   "metadata": {},
   "outputs": [],
   "source": [
    "#Ques-2"
   ]
  },
  {
   "cell_type": "markdown",
   "id": "f7316d00",
   "metadata": {},
   "source": [
    "1. Create an empty dictionary called customers, where name is a key and contacts is a list\n",
    "of contacts such as phoneno and email ID for each customer.\n",
    "2. Ask user to enter name and his contacts for N customers. Add them to dictionary\n",
    "customers. Stop reading when user types “done”."
   ]
  },
  {
   "cell_type": "code",
   "execution_count": 76,
   "id": "ec5f2c40",
   "metadata": {},
   "outputs": [
    {
     "name": "stdout",
     "output_type": "stream",
     "text": [
      "No. of customers:2\n",
      "Name: sowmi\n",
      "Phone No.: 9597054225\n",
      "Emailid: bassowmiya2002@gmail.com\n",
      "Continue or '(Type Done)' Over: continue\n",
      "\n",
      " {'sowmi': [9597054225, 'bassowmiya2002@gmail.com']}\n",
      "Name: tom\n",
      "Phone No.: 9874563214\n",
      "Emailid: tomas123@gmail.com\n",
      "Continue or '(Type Done)' Over: continue\n",
      "\n",
      " {'sowmi': [9597054225, 'bassowmiya2002@gmail.com'], 'tom': [9874563214, 'tomas123@gmail.com']}\n"
     ]
    }
   ],
   "source": [
    "customers={}\n",
    "n=int(input(\"No. of customers:\"))\n",
    "for i in range(n):\n",
    "    a=input(\"Name: \")\n",
    "    b=int(input(\"Phone No.: \"))\n",
    "    c=input(\"Emailid: \")\n",
    "    d=input(\"Continue or '(Type Done)' Over: \")\n",
    "    if d=='done':\n",
    "        break\n",
    "    key=a\n",
    "    contacts=[b,c]\n",
    "    customers[key]=contacts\n",
    "    print('\\n',customers)"
   ]
  },
  {
   "cell_type": "markdown",
   "id": "e144144f",
   "metadata": {},
   "source": [
    "3. Show the contacts for customer “rex”. If not exists, print message “Contacts not exists..”"
   ]
  },
  {
   "cell_type": "code",
   "execution_count": 102,
   "id": "1db6eccf",
   "metadata": {},
   "outputs": [
    {
     "name": "stdout",
     "output_type": "stream",
     "text": [
      "Contacts not exists..\n"
     ]
    }
   ],
   "source": [
    "if \"rex\" in customers:\n",
    "    print(customers.get(\"rex\"))\n",
    "else:\n",
    "    print(\"Contacts not exists..\")"
   ]
  },
  {
   "cell_type": "markdown",
   "id": "36c4380f",
   "metadata": {},
   "source": [
    "4. Add a new customer with name “rex”, phone number 9942002764 and email id\n",
    "rajkumar@bhc.edu"
   ]
  },
  {
   "cell_type": "code",
   "execution_count": 103,
   "id": "d8f48c16",
   "metadata": {},
   "outputs": [],
   "source": [
    "customers.update({\"rex\":[9942002764,\"rajkumar@bhc.edu\"]})"
   ]
  },
  {
   "cell_type": "markdown",
   "id": "13177a34",
   "metadata": {},
   "source": [
    "5. Show all customers both name and contacts. (Use items() method, unpack it and print\n",
    "inside for loop)"
   ]
  },
  {
   "cell_type": "code",
   "execution_count": 79,
   "id": "6dc7df7b",
   "metadata": {},
   "outputs": [
    {
     "name": "stdout",
     "output_type": "stream",
     "text": [
      "{'sowmi': [9597054225, 'bassowmiya2002@gmail.com'], 'tom': [9874563214, 'tomas123@gmail.com'], 'rex': [9942002764, 'rajkumar@bhc.edu']}\n"
     ]
    }
   ],
   "source": [
    "print(customers)"
   ]
  },
  {
   "cell_type": "markdown",
   "id": "2b1066ce",
   "metadata": {},
   "source": [
    "6. Show all customer contacts (Iterate using for loop)"
   ]
  },
  {
   "cell_type": "code",
   "execution_count": 104,
   "id": "e5b61479",
   "metadata": {},
   "outputs": [
    {
     "name": "stdout",
     "output_type": "stream",
     "text": [
      "Name: sowmi \t contacts: [9597054225, 'bassowmiya2002@gmail.com']\n",
      "Name: tom \t contacts: [9874563214, 'tomas123@gmail.com']\n",
      "Name: rex \t contacts: [9942002764, 'rajkumar@bhc.edu']\n"
     ]
    }
   ],
   "source": [
    "for i in customers:\n",
    "    print(\"Name:\",i,\"\\t\",\"contacts:\",customers[i])"
   ]
  },
  {
   "cell_type": "markdown",
   "id": "764d81f7",
   "metadata": {},
   "source": [
    "7. Show all customer names in alphabetical order"
   ]
  },
  {
   "cell_type": "code",
   "execution_count": 87,
   "id": "407dc7db",
   "metadata": {},
   "outputs": [
    {
     "name": "stdout",
     "output_type": "stream",
     "text": [
      "Ascending order:\n",
      "rex\n",
      "sowmi\n",
      "tom\n",
      "\n"
     ]
    }
   ],
   "source": [
    "print(\"Ascending order:\")\n",
    "for j in sorted(customers):\n",
    "    print(j)\n",
    "print()"
   ]
  },
  {
   "cell_type": "markdown",
   "id": "a4b2f91b",
   "metadata": {},
   "source": [
    "Question3. Write a program for Character and word counter.\n",
    " Develop an application that reads a file and prints words in descending order of their\n",
    "frequency.\n",
    " Also print the letters such as „a‟, , „b‟, etc, in decreasing order of frequency. Your\n",
    "program should convert all the input to lower case and only count the letters a-z.\n",
    "Your program should not count spaces, digits, punctuation, or anything other than the\n",
    "letters a-z."
   ]
  },
  {
   "cell_type": "code",
   "execution_count": 14,
   "id": "8f01a331",
   "metadata": {},
   "outputs": [],
   "source": [
    "#Ques-3"
   ]
  },
  {
   "cell_type": "code",
   "execution_count": 94,
   "id": "869d784c",
   "metadata": {},
   "outputs": [
    {
     "name": "stdout",
     "output_type": "stream",
     "text": [
      "descending order:\n",
      "yesteryears. yesteryear writers, write works words, wood without with with which which which which we we we we we we we we we we water water vibrant various valuing valued use us. us. us, us us us us understand two truly trees too today. to to to to to to to to to to to to to this things. they therefore, them their the the the the the the the the the the the the the the the the the the that. that technological taken take survive survival surrounded sunshine, sun stories steps step start spheres. something soil soak so. since similarly, significance should serious rivers, rising right rich requires remarkable reflects recognize rainfall rainfall purposes provides protective protect prevent prevent powerful poets, poems plants, people people people paying part our other order only. one. one one on offers of of of of of of of of of of of of of of of numerous nowadays nourished not non-living need need nature. nature, nature, nature nature nature nature nature nature nature nature nature nature nature natural must mountains, most most more. more more moon, moon modern mankind. mankind. mankind mankind major long living like lifestyle life; life. levels. level. learn layer late.nature kinds itself. it. it it it it it it it it it it is is is is is is is is is integral instance, inspired inspiration in, in in in in in in in impossible important important important immediate if humans humans humans human human however, holds hear healthy, healthy has has has has has harms. guards greatest glory gives gift gets gaze further, further functioning fulfill from from form forever. for for for for for food fail existence everything every ever even essentially, erosion equal entire enough enough enables elements element eating easily drinking drink, drastic down do different destroy derived deforestation decline day day damages damage. cutting creation consists conserve conserve consequences chirping, cause cause catastrophe care can by by by but, bring breathe, breathe both blessings birds before before been been balance away attention.in attention at at assets as artists are are are are any animals, and and and and and and and and and and and and and and and and and and and an an also also also all, all all air air age against advancements, absence above ability a a a a a \n",
      "\n",
      "\n",
      "Total Number of Alphabets: 1856\n"
     ]
    }
   ],
   "source": [
    "f=open(\"show.txt\")\n",
    "r=f.read()\n",
    "words=[word.lower() for word in r.split()]\n",
    "words.sort(reverse=True)\n",
    "alphabet=str(words).split()\n",
    "print(\"descending order:\")\n",
    "for word in words:\n",
    "    print(word,end=\" \")\n",
    "alphabets=0\n",
    "for i in range(len(r)):\n",
    "    if(r[i].isalpha()):\n",
    "        alphabets=alphabets+1\n",
    "print()\n",
    "print()\n",
    "print()\n",
    "print(\"Total Number of Alphabets:\",alphabets)"
   ]
  },
  {
   "cell_type": "code",
   "execution_count": null,
   "id": "132173f7",
   "metadata": {},
   "outputs": [],
   "source": []
  }
 ],
 "metadata": {
  "kernelspec": {
   "display_name": "Python 3 (ipykernel)",
   "language": "python",
   "name": "python3"
  },
  "language_info": {
   "codemirror_mode": {
    "name": "ipython",
    "version": 3
   },
   "file_extension": ".py",
   "mimetype": "text/x-python",
   "name": "python",
   "nbconvert_exporter": "python",
   "pygments_lexer": "ipython3",
   "version": "3.10.9"
  }
 },
 "nbformat": 4,
 "nbformat_minor": 5
}
