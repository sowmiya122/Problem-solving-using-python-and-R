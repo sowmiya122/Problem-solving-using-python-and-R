{
 "cells": [
  {
   "cell_type": "markdown",
   "metadata": {},
   "source": [
    "# 225229138-Lab-12"
   ]
  },
  {
   "cell_type": "markdown",
   "metadata": {},
   "source": [
    "# Database programming using sqlite3"
   ]
  },
  {
   "cell_type": "markdown",
   "metadata": {},
   "source": [
    "Question1. Perform CRUD operations on Student Table as outlined in the reference\n",
    "(https://medium.com/analytics-vidhya/programming-with-databases-in-python-using-\n",
    "sqlite4cecbef51ab9 )."
   ]
  },
  {
   "cell_type": "code",
   "execution_count": 2,
   "metadata": {},
   "outputs": [],
   "source": [
    "import sqlite3\n",
    "conn = sqlite3.connect('student.db')\n",
    "cursor = conn.cursor()\n",
    "cursor.execute(\"DROP TABLE IF EXISTS STUDENT\")\n",
    "query = \"\"\"CREATE TABLE STUDENT(\n",
    "        ID INT PRIMARY KEY NOT NULL,\n",
    "        NAME CHAR(20) NOT NULL, \n",
    "        ROLL CHAR(20), \n",
    "        ADDRESS CHAR(50), \n",
    "        CLASS CHAR(20) )\"\"\"\n",
    "cursor.execute(query)\n",
    "conn.commit()\n",
    "conn.close()"
   ]
  },
  {
   "cell_type": "code",
   "execution_count": 22,
   "metadata": {},
   "outputs": [],
   "source": [
    "import sqlite3\n",
    "conn = sqlite3.connect('student.db')\n",
    "conn.execute(\"INSERT INTO STUDENT (ID,NAME,ROLL,ADDRESS,CLASS) \"\n",
    "             \"VALUES (1, 'Sowmi', '101', 'Trichy', 'Maths')\")\n",
    "conn.execute(\"INSERT INTO STUDENT (ID,NAME,ROLL,ADDRESS,CLASS) \"\n",
    "             \"VALUES (2, 'Deepa', '102', 'Trichy', 'Data science')\")\n",
    "conn.execute(\"INSERT INTO STUDENT (ID,NAME,ROLL,ADDRESS,CLASS) \"\n",
    "             \"VALUES (3, 'Pavi', '103', 'Bangalore', 'Chemistry')\")\n",
    "conn.execute(\"INSERT INTO STUDENT (ID,NAME,ROLL,ADDRESS,CLASS) \"\n",
    "             \"VALUES (4, 'Vini', '104', 'Hyderabad', 'Statistics')\")\n",
    "conn.commit()\n",
    "conn.close()"
   ]
  },
  {
   "cell_type": "code",
   "execution_count": 23,
   "metadata": {},
   "outputs": [
    {
     "name": "stdout",
     "output_type": "stream",
     "text": [
      "[(1, 'Sowmi', '101', 'Trichy', 'Maths'), (2, 'Deepa', '102', 'Trichy', 'Data science'), (3, 'Pavi', '103', 'Bangalore', 'Chemistry'), (4, 'Vini', '104', 'Hyderabad', 'Statistics')]\n"
     ]
    }
   ],
   "source": [
    "import sqlite3\n",
    "conn = sqlite3.connect('student.db')\n",
    "cursor = conn.execute(\"SELECT * from STUDENT\")\n",
    "print(cursor.fetchall())\n",
    "conn.close()"
   ]
  },
  {
   "cell_type": "code",
   "execution_count": 25,
   "metadata": {},
   "outputs": [
    {
     "name": "stdout",
     "output_type": "stream",
     "text": [
      "[(1, 'Sowmi', '101', 'Trichy', 'Maths'), (2, 'Deepa', '102', 'Trichy', 'Data science'), (3, 'Pavi', '103', 'Bangalore', 'Chemistry'), (4, 'Vini', '104', 'Hyderabad', 'Statistics')]\n"
     ]
    }
   ],
   "source": [
    "import sqlite3\n",
    "conn = sqlite3.connect('student.db')\n",
    "cursor = conn.execute(\"SELECT * from STUDENT\")\n",
    "print(cursor.fetchall())\n",
    "conn.close()"
   ]
  },
  {
   "cell_type": "code",
   "execution_count": 27,
   "metadata": {},
   "outputs": [
    {
     "name": "stdout",
     "output_type": "stream",
     "text": [
      "[(1, 'Sowmi', '5', 'Trichy', 'Maths'), (2, 'Deepa', '102', 'Trichy', 'Data science'), (3, 'Pavi', '103', 'Bangalore', 'Chemistry'), (4, 'Vini', '104', 'Hyderabad', 'Statistics')]\n"
     ]
    }
   ],
   "source": [
    "import sqlite3\n",
    "conn = sqlite3.connect('student.db')\n",
    "conn.execute(\"UPDATE STUDENT set ROLL = 005 where ID = 1\")\n",
    "conn.commit()\n",
    "cursor = conn.execute(\"SELECT * from STUDENT\")\n",
    "print(cursor.fetchall())\n",
    "conn.close()"
   ]
  },
  {
   "cell_type": "code",
   "execution_count": 29,
   "metadata": {},
   "outputs": [
    {
     "name": "stdout",
     "output_type": "stream",
     "text": [
      "[(1, 'Sowmi', '5', 'Trichy', 'Maths'), (3, 'Pavi', '103', 'Bangalore', 'Chemistry'), (4, 'Vini', '104', 'Hyderabad', 'Statistics')]\n"
     ]
    }
   ],
   "source": [
    "import sqlite3\n",
    "conn = sqlite3.connect('student.db')\n",
    "conn.execute(\"DELETE from STUDENT where ID = 2;\")\n",
    "conn.commit()\n",
    "cursor = conn.execute(\"SELECT * from STUDENT\")\n",
    "print(cursor.fetchall())\n",
    "conn.close()"
   ]
  },
  {
   "cell_type": "markdown",
   "metadata": {},
   "source": [
    "Question2. Open the table MyRestaurants.db that you have created for NoSQL course"
   ]
  },
  {
   "cell_type": "code",
   "execution_count": 2,
   "metadata": {},
   "outputs": [],
   "source": [
    "import sqlite3\n",
    "conn = sqlite3.connect('MyRestaurant.db')\n",
    "cursor = conn.cursor()\n",
    "cursor.execute(\"DROP TABLE IF EXISTS MyRestaurant\")\n",
    "query = \"\"\"CREATE TABLE MyRestaurant(\n",
    "        NAME CHAR(20) NOT NULL, \n",
    "        FOODTYPE CHAR(20), \n",
    "        DISTANCE CHAR(50), \n",
    "        LASTVISIT DATE,\n",
    "        ILIKE CHAR(10))\"\"\"\n",
    "cursor.execute(query)\n",
    "conn.commit()\n",
    "conn.close()"
   ]
  },
  {
   "cell_type": "code",
   "execution_count": 3,
   "metadata": {},
   "outputs": [],
   "source": [
    "import sqlite3\n",
    "conn = sqlite3.connect('MyRestaurant.db')\n",
    "conn.execute(\"INSERT INTO MyRestaurant (NAME,FOODTYPE,DISTANCE,LASTVISIT,ILIKE) \"\n",
    "             \"VALUES ('Apple_leaf', 'veg', '10', '01-jan-2020', '1')\")\n",
    "conn.execute(\"INSERT INTO MyRestaurant (NAME,FOODTYPE,DISTANCE,LASTVISIT,ILIKE) \"\n",
    "             \"VALUES ('littlechina', 'chinese', '20', '12-jun-2020', '0')\")\n",
    "conn.execute(\"INSERT INTO MyRestaurant (NAME,FOODTYPE,DISTANCE,LASTVISIT,ILIKE) \" \n",
    "             \"VALUES ('Hakkims', 'nonveg', '30', '10-feb-2020', '1')\")\n",
    "conn.execute(\"INSERT INTO MyRestaurant (NAME,FOODTYPE,DISTANCE,LASTVISIT,ILIKE) \" \n",
    "             \"VALUES ('Kannappa', 'nonveg', '15', '15-mar-2020', '1')\")\n",
    "conn.execute(\"INSERT INTO MyRestaurant (NAME,FOODTYPE,DISTANCE,LASTVISIT,ILIKE) \" \n",
    "             \"VALUES ('Chinaworld', 'chinese', '25', '14-jul-2020', '2')\")\n",
    "conn.commit()\n",
    "conn.close()"
   ]
  },
  {
   "cell_type": "code",
   "execution_count": 4,
   "metadata": {},
   "outputs": [
    {
     "name": "stdout",
     "output_type": "stream",
     "text": [
      "[('Apple_leaf', 'veg', '10', '01-jan-2020', '1'), ('littlechina', 'chinese', '20', '12-jun-2020', '0'), ('Hakkims', 'nonveg', '30', '10-feb-2020', '1'), ('Kannappa', 'nonveg', '15', '15-mar-2020', '1'), ('Chinaworld', 'chinese', '25', '14-jul-2020', '2')]\n"
     ]
    }
   ],
   "source": [
    "import sqlite3\n",
    "conn = sqlite3.connect('MyRestaurant.db')\n",
    "cursor = conn.execute(\"SELECT * from MyRestaurant\")\n",
    "print(cursor.fetchall())\n",
    "conn.close()"
   ]
  },
  {
   "cell_type": "markdown",
   "metadata": {},
   "source": [
    "Question3. Write a SQL query that returns all restaurants in your table MyRestaurants.db."
   ]
  },
  {
   "cell_type": "code",
   "execution_count": 5,
   "metadata": {},
   "outputs": [
    {
     "name": "stdout",
     "output_type": "stream",
     "text": [
      "[('Apple_leaf',), ('littlechina',), ('Hakkims',), ('Kannappa',), ('Chinaworld',)]\n"
     ]
    }
   ],
   "source": [
    "import sqlite3\n",
    "conn = sqlite3.connect('MyRestaurant.db')\n",
    "cursor = conn.execute(\"SELECT name from MyRestaurant\")\n",
    "print(cursor.fetchall())\n",
    "conn.close()"
   ]
  },
  {
   "cell_type": "markdown",
   "metadata": {},
   "source": [
    "Question4. Write a SQL query that returns the names of restaurants in descending order that\n",
    "makes Chinese foods."
   ]
  },
  {
   "cell_type": "code",
   "execution_count": 7,
   "metadata": {},
   "outputs": [
    {
     "name": "stdout",
     "output_type": "stream",
     "text": [
      "[('Chinaworld',), ('littlechina',)]\n"
     ]
    }
   ],
   "source": [
    "import sqlite3\n",
    "conn = sqlite3.connect('MyRestaurant.db')\n",
    "cursor = conn.execute(\"SELECT name from MyRestaurant where foodtype='chinese'order by name\")\n",
    "print(cursor.fetchall())\n",
    "conn.close()"
   ]
  },
  {
   "cell_type": "code",
   "execution_count": null,
   "metadata": {},
   "outputs": [],
   "source": []
  }
 ],
 "metadata": {
  "kernelspec": {
   "display_name": "Python 3 (ipykernel)",
   "language": "python",
   "name": "python3"
  },
  "language_info": {
   "codemirror_mode": {
    "name": "ipython",
    "version": 3
   },
   "file_extension": ".py",
   "mimetype": "text/x-python",
   "name": "python",
   "nbconvert_exporter": "python",
   "pygments_lexer": "ipython3",
   "version": "3.10.9"
  }
 },
 "nbformat": 4,
 "nbformat_minor": 2
}
